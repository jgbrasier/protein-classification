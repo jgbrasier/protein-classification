{
  "nbformat": 4,
  "nbformat_minor": 0,
  "metadata": {
    "accelerator": "GPU",
    "colab": {
      "name": "ProtClass.ipynb",
      "provenance": [],
      "collapsed_sections": [
        "wiIULGzKavQw"
      ],
      "machine_shape": "hm",
      "authorship_tag": "ABX9TyMy82K9voVyhShP//hZBnUO",
      "include_colab_link": true
    },
    "kernelspec": {
      "display_name": "Python 3",
      "name": "python3"
    },
    "language_info": {
      "name": "python"
    }
  },
  "cells": [
    {
      "cell_type": "markdown",
      "metadata": {
        "id": "view-in-github",
        "colab_type": "text"
      },
      "source": [
        "<a href=\"https://colab.research.google.com/github/jgbrasier/protein-classification/blob/main/ProtClass.ipynb\" target=\"_parent\"><img src=\"https://colab.research.google.com/assets/colab-badge.svg\" alt=\"Open In Colab\"/></a>"
      ]
    },
    {
      "cell_type": "markdown",
      "metadata": {
        "id": "Be4cobaaamaP"
      },
      "source": [
        "# Deep sequence models for protein classification"
      ]
    },
    {
      "cell_type": "code",
      "metadata": {
        "id": "K8eXX7Feky3F"
      },
      "source": [
        "import io\n",
        "import os\n",
        "import pandas as pd\n",
        "import matplotlib.pyplot as plt\n",
        "import numpy as np\n",
        "import time\n",
        "from datetime import datetime\n",
        "from collections import Counter\n",
        "from sklearn.preprocessing import LabelBinarizer\n",
        "from keras.preprocessing import text, sequence\n",
        "from keras.preprocessing.text import Tokenizer\n",
        "from sklearn.model_selection import train_test_split\n",
        "from sklearn.metrics import confusion_matrix\n",
        "from sklearn.metrics import classification_report\n",
        "import torch as th\n",
        "import torch.nn as nn\n",
        "import torch.nn.functional as F\n",
        "from torch import optim\n",
        "from torch.autograd import Variable\n",
        "from torch.utils.data import DataLoader"
      ],
      "execution_count": 1,
      "outputs": []
    },
    {
      "cell_type": "markdown",
      "metadata": {
        "id": "wiIULGzKavQw"
      },
      "source": [
        "## Downloading data\n",
        "download and save to local drive: https://www.kaggle.com/shahir/protein-data-set\n",
        "\n",
        "### Uploading data to Colab\n",
        "\n",
        "Click on \"chose files\" upload both:\n",
        " - pdb_data_seq.csv\n",
        " - pdb_data_no_dups.csv"
      ]
    },
    {
      "cell_type": "code",
      "metadata": {
        "colab": {
          "resources": {
            "http://localhost:8080/nbextensions/google.colab/files.js": {
              "data": "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",
              "ok": true,
              "headers": [
                [
                  "content-type",
                  "application/javascript"
                ]
              ],
              "status": 200,
              "status_text": ""
            }
          },
          "base_uri": "https://localhost:8080/",
          "height": 73
        },
        "id": "wg_DpKbPXSx6",
        "outputId": "a17b040b-bcee-4acf-8b8d-fc394df71086"
      },
      "source": [
        "from google.colab import files\n",
        "# upload 'pdb_data_seq.csv'\n",
        "uploaded = files.upload()"
      ],
      "execution_count": null,
      "outputs": [
        {
          "output_type": "display_data",
          "data": {
            "text/html": [
              "\n",
              "     <input type=\"file\" id=\"files-7ee9c65c-e57c-4da6-9dae-a6b53e8a5b8a\" name=\"files[]\" multiple disabled\n",
              "        style=\"border:none\" />\n",
              "     <output id=\"result-7ee9c65c-e57c-4da6-9dae-a6b53e8a5b8a\">\n",
              "      Upload widget is only available when the cell has been executed in the\n",
              "      current browser session. Please rerun this cell to enable.\n",
              "      </output>\n",
              "      <script src=\"/nbextensions/google.colab/files.js\"></script> "
            ],
            "text/plain": [
              "<IPython.core.display.HTML object>"
            ]
          },
          "metadata": {
            "tags": []
          }
        },
        {
          "output_type": "stream",
          "text": [
            "Saving pdb_data_seq.csv to pdb_data_seq.csv\n"
          ],
          "name": "stdout"
        }
      ]
    },
    {
      "cell_type": "code",
      "metadata": {
        "colab": {
          "resources": {
            "http://localhost:8080/nbextensions/google.colab/files.js": {
              "data": "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",
              "ok": true,
              "headers": [
                [
                  "content-type",
                  "application/javascript"
                ]
              ],
              "status": 200,
              "status_text": ""
            }
          },
          "base_uri": "https://localhost:8080/",
          "height": 73
        },
        "id": "Rxa2w8dPXW6f",
        "outputId": "da151d59-538d-4712-d248-c6c6d41fb275"
      },
      "source": [
        "# upload 'pdb_data_np_dupes.csv'\n",
        "uploaded2 = files.upload()"
      ],
      "execution_count": null,
      "outputs": [
        {
          "output_type": "display_data",
          "data": {
            "text/html": [
              "\n",
              "     <input type=\"file\" id=\"files-68be6f15-190d-4a3b-b853-9938f19cd969\" name=\"files[]\" multiple disabled\n",
              "        style=\"border:none\" />\n",
              "     <output id=\"result-68be6f15-190d-4a3b-b853-9938f19cd969\">\n",
              "      Upload widget is only available when the cell has been executed in the\n",
              "      current browser session. Please rerun this cell to enable.\n",
              "      </output>\n",
              "      <script src=\"/nbextensions/google.colab/files.js\"></script> "
            ],
            "text/plain": [
              "<IPython.core.display.HTML object>"
            ]
          },
          "metadata": {
            "tags": []
          }
        },
        {
          "output_type": "stream",
          "text": [
            "Saving pdb_data_no_dups.csv to pdb_data_no_dups.csv\n"
          ],
          "name": "stdout"
        }
      ]
    },
    {
      "cell_type": "code",
      "metadata": {
        "id": "xNCJxLQtd71Q"
      },
      "source": [
        "# convert data to pandas dataframe\n",
        "seq = pd.read_csv(io.BytesIO(uploaded['pdb_data_seq.csv']))\n",
        "nodups = pd.read_csv(io.BytesIO(uploaded2['pdb_data_no_dups.csv']))"
      ],
      "execution_count": null,
      "outputs": []
    },
    {
      "cell_type": "markdown",
      "metadata": {
        "id": "0CvPQ70Mkt-0"
      },
      "source": [
        "## Data cleaning and preparation"
      ]
    },
    {
      "cell_type": "markdown",
      "metadata": {
        "id": "0dlMgb_UTHKy"
      },
      "source": [
        "### Data analysis"
      ]
    },
    {
      "cell_type": "code",
      "metadata": {
        "colab": {
          "base_uri": "https://localhost:8080/"
        },
        "id": "jxYMukTCeUzE",
        "outputId": "810b869c-e2cc-4aa2-af5f-bfbe8c1523d5"
      },
      "source": [
        "# merge both data frames on structure id, remove duplicates\n",
        "df = nodups.merge(seq, how='inner', on='structureId').drop_duplicates(['structureId'])\n",
        "# remove NaN values\n",
        "df = df.dropna()\n",
        "# keep only proteins and reset indexes\n",
        "df = df[df['macromoleculeType_x'] == 'Protein'].reset_index()\n",
        "# keep structureId, classification, residueCount_x, sequence\n",
        "df = df[['structureId', 'classification', 'residueCount_x', 'sequence']]\n",
        "df.columns = ['structureId', 'classification', 'residueCount', 'sequence']\n",
        "print(\"Total number of unique proteins:\", len(df))"
      ],
      "execution_count": null,
      "outputs": [
        {
          "output_type": "stream",
          "text": [
            "Total number of unique proteins: 60757\n"
          ],
          "name": "stdout"
        }
      ]
    },
    {
      "cell_type": "code",
      "metadata": {
        "colab": {
          "base_uri": "https://localhost:8080/",
          "height": 197
        },
        "id": "iEFYsaROhDxo",
        "outputId": "9e9bb4a6-b9ab-48ec-9994-1de0064c1402"
      },
      "source": [
        "df.head()"
      ],
      "execution_count": null,
      "outputs": [
        {
          "output_type": "execute_result",
          "data": {
            "text/html": [
              "<div>\n",
              "<style scoped>\n",
              "    .dataframe tbody tr th:only-of-type {\n",
              "        vertical-align: middle;\n",
              "    }\n",
              "\n",
              "    .dataframe tbody tr th {\n",
              "        vertical-align: top;\n",
              "    }\n",
              "\n",
              "    .dataframe thead th {\n",
              "        text-align: right;\n",
              "    }\n",
              "</style>\n",
              "<table border=\"1\" class=\"dataframe\">\n",
              "  <thead>\n",
              "    <tr style=\"text-align: right;\">\n",
              "      <th></th>\n",
              "      <th>structureId</th>\n",
              "      <th>classification</th>\n",
              "      <th>residueCount</th>\n",
              "      <th>sequence</th>\n",
              "    </tr>\n",
              "  </thead>\n",
              "  <tbody>\n",
              "    <tr>\n",
              "      <th>0</th>\n",
              "      <td>1914</td>\n",
              "      <td>ALU DOMAIN</td>\n",
              "      <td>232</td>\n",
              "      <td>MASMTGGQQMGRIPGNSPRMVLLESEQFLTELTRLFQKCRSSGSVF...</td>\n",
              "    </tr>\n",
              "    <tr>\n",
              "      <th>1</th>\n",
              "      <td>1A04</td>\n",
              "      <td>SIGNAL TRANSDUCTION PROTEIN</td>\n",
              "      <td>430</td>\n",
              "      <td>SNQEPATILLIDDHPMLRTGVKQLISMAPDITVVGEASNGEQGIEL...</td>\n",
              "    </tr>\n",
              "    <tr>\n",
              "      <th>2</th>\n",
              "      <td>1A0R</td>\n",
              "      <td>COMPLEX (TRANSDUCER/TRANSDUCTION)</td>\n",
              "      <td>650</td>\n",
              "      <td>XSELDQLRQEAEQLKNQIRDARKACADATLSQITNNIDPVGRIQMR...</td>\n",
              "    </tr>\n",
              "    <tr>\n",
              "      <th>3</th>\n",
              "      <td>1A2B</td>\n",
              "      <td>ONCOGENE PROTEIN</td>\n",
              "      <td>182</td>\n",
              "      <td>SMAAIRKKLVIVGDVACGKTCLLIVFSKDQFPEVYVPTVFENYVAD...</td>\n",
              "    </tr>\n",
              "    <tr>\n",
              "      <th>4</th>\n",
              "      <td>1A2X</td>\n",
              "      <td>COMPLEX (SKELETAL MUSCLE/MUSCLE PROTEIN)</td>\n",
              "      <td>206</td>\n",
              "      <td>TDQQAEARSYLSEEMIAEFKAAFDMFDADGGGDISVKELGTVMRML...</td>\n",
              "    </tr>\n",
              "  </tbody>\n",
              "</table>\n",
              "</div>"
            ],
            "text/plain": [
              "  structureId  ...                                           sequence\n",
              "0        1914  ...  MASMTGGQQMGRIPGNSPRMVLLESEQFLTELTRLFQKCRSSGSVF...\n",
              "1        1A04  ...  SNQEPATILLIDDHPMLRTGVKQLISMAPDITVVGEASNGEQGIEL...\n",
              "2        1A0R  ...  XSELDQLRQEAEQLKNQIRDARKACADATLSQITNNIDPVGRIQMR...\n",
              "3        1A2B  ...  SMAAIRKKLVIVGDVACGKTCLLIVFSKDQFPEVYVPTVFENYVAD...\n",
              "4        1A2X  ...  TDQQAEARSYLSEEMIAEFKAAFDMFDADGGGDISVKELGTVMRML...\n",
              "\n",
              "[5 rows x 4 columns]"
            ]
          },
          "metadata": {
            "tags": []
          },
          "execution_count": 20
        }
      ]
    },
    {
      "cell_type": "code",
      "metadata": {
        "colab": {
          "base_uri": "https://localhost:8080/",
          "height": 294
        },
        "id": "vvAEt1dEh0Fq",
        "outputId": "bdfef17c-0c1f-4187-cb1a-142eb2a12333"
      },
      "source": [
        "plt.hist(df['residueCount'])\n",
        "plt.xlabel('sequence length')\n",
        "plt.title('Distribution of protein sequence lengths')\n",
        "plt.show()"
      ],
      "execution_count": null,
      "outputs": [
        {
          "output_type": "display_data",
          "data": {
            "image/png": "[encoded data removed]",
            "text/plain": [
              "<Figure size 432x288 with 1 Axes>"
            ]
          },
          "metadata": {
            "tags": [],
            "needs_background": "light"
          }
        }
      ]
    },
    {
      "cell_type": "code",
      "metadata": {
        "colab": {
          "base_uri": "https://localhost:8080/"
        },
        "id": "v_klUXYUlGk8",
        "outputId": "516ac22f-7226-453b-936e-ce7e1df584ee"
      },
      "source": [
        "# remove proteins with lengths > 2000 to save compute time on LSTM models\n",
        "max_len = 2000\n",
        "df = df[df['residueCount'] < max_len]\n",
        "print(\"Total number of unique proteins:\", len(df))\n",
        "print(\"Total number of unique classification labels:\", len(df.classification.unique()))"
      ],
      "execution_count": null,
      "outputs": [
        {
          "output_type": "stream",
          "text": [
            "Total number of unique proteins: 57359\n",
            "Total number of unique classification labels: 2052\n"
          ],
          "name": "stdout"
        }
      ]
    },
    {
      "cell_type": "code",
      "metadata": {
        "colab": {
          "base_uri": "https://localhost:8080/",
          "height": 294
        },
        "id": "xCJD9lgdmUU9",
        "outputId": "d2ab2178-6925-4549-c013-6830a496c263"
      },
      "source": [
        "plt.hist(df['residueCount'])\n",
        "plt.xlabel('sequence length')\n",
        "plt.title('Distribution of protein sequence lengths')\n",
        "plt.show()"
      ],
      "execution_count": null,
      "outputs": [
        {
          "output_type": "display_data",
          "data": {
            "image/png": "[encoded data removed]",
            "text/plain": [
              "<Figure size 432x288 with 1 Axes>"
            ]
          },
          "metadata": {
            "tags": [],
            "needs_background": "light"
          }
        }
      ]
    },
    {
      "cell_type": "code",
      "metadata": {
        "id": "wi-q9iK2mVx8",
        "colab": {
          "base_uri": "https://localhost:8080/"
        },
        "outputId": "de8b1d98-eee7-476c-f09f-b9904b5ac00b"
      },
      "source": [
        "# keep only 15 most important classes by instance count\n",
        "N_class = 10\n",
        "count = Counter(df.classification)\n",
        "sort = count.most_common()[:N_class]\n",
        "classes = np.array(sort)[:, 0]\n",
        "df = df[[c in classes for c in df.classification]]\n",
        "sequences = df.sequence.values\n",
        "print(\"Total number of unique proteins:\", len(df))"
      ],
      "execution_count": null,
      "outputs": [
        {
          "output_type": "stream",
          "text": [
            "Total number of unique proteins: 34288\n",
            "['HYDROLASE' 'TRANSFERASE' 'OXIDOREDUCTASE' 'IMMUNE SYSTEM' 'LYASE'\n",
            " 'TRANSCRIPTION' 'TRANSPORT PROTEIN' 'HYDROLASE/HYDROLASE INHIBITOR'\n",
            " 'SIGNALING PROTEIN' 'TRANSFERASE/TRANSFERASE INHIBITOR']\n"
          ],
          "name": "stdout"
        }
      ]
    },
    {
      "cell_type": "code",
      "metadata": {
        "colab": {
          "base_uri": "https://localhost:8080/"
        },
        "id": "Cy96w7EbnnfK",
        "outputId": "110ea9c1-2e51-4be6-ee09-192a524dd907"
      },
      "source": [
        "df.classification.value_counts()"
      ],
      "execution_count": null,
      "outputs": [
        {
          "output_type": "execute_result",
          "data": {
            "text/plain": [
              "HYDROLASE                            9704\n",
              "TRANSFERASE                          7277\n",
              "OXIDOREDUCTASE                       5544\n",
              "IMMUNE SYSTEM                        2333\n",
              "LYASE                                2177\n",
              "TRANSCRIPTION                        1660\n",
              "TRANSPORT PROTEIN                    1608\n",
              "HYDROLASE/HYDROLASE INHIBITOR        1457\n",
              "SIGNALING PROTEIN                    1286\n",
              "TRANSFERASE/TRANSFERASE INHIBITOR    1242\n",
              "Name: classification, dtype: int64"
            ]
          },
          "metadata": {
            "tags": []
          },
          "execution_count": 27
        }
      ]
    },
    {
      "cell_type": "code",
      "metadata": {
        "colab": {
          "base_uri": "https://localhost:8080/"
        },
        "id": "DSaULcXixKQw",
        "outputId": "f9070479-95c5-4914-b94e-cea4c5eb771b"
      },
      "source": [
        "# one hot encode classes\n",
        "lb = LabelBinarizer()\n",
        "Y = lb.fit_transform(df.classification)\n",
        "\n",
        "# tokenize our sequences\n",
        "# create fit\n",
        "tokenizer = Tokenizer(char_level=True)\n",
        "tokenizer.fit_on_texts(sequences)\n",
        "#represent input data as word rank number sequences\n",
        "X = tokenizer.texts_to_sequences(sequences)\n",
        "X = sequence.pad_sequences(X, maxlen=max_len)\n",
        "print('X shape:', X.shape, 'Y shape:', Y.shape)"
      ],
      "execution_count": null,
      "outputs": [
        {
          "output_type": "stream",
          "text": [
            "X shape: (34288, 2000) Y shape: (34288, 10)\n"
          ],
          "name": "stdout"
        }
      ]
    },
    {
      "cell_type": "code",
      "metadata": {
        "id": "SOD42T48qhDq"
      },
      "source": [
        "# train/test split\n",
        "train_data, test_data, train_labels, test_labels = train_test_split(X, Y, test_size=.1)\n",
        "train_data = th.from_numpy(train_data)\n",
        "test_data = th.from_numpy(test_data)\n",
        "train_labels = th.from_numpy(train_labels)\n",
        "test_labels = th.from_numpy(test_labels)\n"
      ],
      "execution_count": null,
      "outputs": []
    },
    {
      "cell_type": "markdown",
      "metadata": {
        "id": "YPqHBLQefwlU"
      },
      "source": [
        "### Save/Load PyTorch tensors\n",
        "prevents from loading whole dataset which takes time\n"
      ]
    },
    {
      "cell_type": "code",
      "metadata": {
        "colab": {
          "base_uri": "https://localhost:8080/"
        },
        "id": "1YmTgbrwfj1R",
        "outputId": "8e6624d5-2ec6-4892-f3da-c1d4b16d8dfa"
      },
      "source": [
        "# to save/load model on your google drive, you need to mount it first\n",
        "# follow instructions.\n",
        "from google.colab import drive\n",
        "drive.mount('/content/gdrive')"
      ],
      "execution_count": 17,
      "outputs": [
        {
          "output_type": "stream",
          "text": [
            "Drive already mounted at /content/gdrive; to attempt to forcibly remount, call drive.mount(\"/content/gdrive\", force_remount=True).\n"
          ],
          "name": "stdout"
        }
      ]
    },
    {
      "cell_type": "code",
      "metadata": {
        "id": "jIgJuM8FmaB5"
      },
      "source": [
        "# save\n",
        "work_dir = f'/content/gdrive/My Drive/Colab Notebooks/Protein Classification/Data'\n",
        "th.save(train_data, os.path.join(work_dir, 'train_data.pt'))\n",
        "th.save(test_data, os.path.join(work_dir, 'test_data.pt'))\n",
        "th.save(train_labels, os.path.join(work_dir, 'train_labels.pt'))\n",
        "th.save(test_labels, os.path.join(work_dir, 'test_labels.pt'))\n"
      ],
      "execution_count": null,
      "outputs": []
    },
    {
      "cell_type": "code",
      "metadata": {
        "id": "mQ5CwKZofe5D"
      },
      "source": [
        "df.to_csv(os.path.join(work_dir, 'df.csv') )"
      ],
      "execution_count": null,
      "outputs": []
    },
    {
      "cell_type": "code",
      "metadata": {
        "colab": {
          "base_uri": "https://localhost:8080/"
        },
        "id": "EnMlHDzLhO5w",
        "outputId": "ab4612a8-60bb-4cd1-8748-a64f153e5197"
      },
      "source": [
        "work_dir = f'/content/gdrive/My Drive/Colab Notebooks/Protein Classification/Data'\n",
        "train_data = th.load(os.path.join(work_dir, 'train_data.pt'))\n",
        "test_data = th.load(os.path.join(work_dir, 'test_data.pt'))\n",
        "train_labels = th.load(os.path.join(work_dir,'train_labels.pt'))\n",
        "test_labels = th.load(os.path.join(work_dir, 'test_labels.pt'))\n",
        "assert len(train_data) == len(train_labels)\n",
        "assert len(test_data) == len(test_labels)\n",
        "print('Training size: ', train_data.size())\n",
        "print('Testing size: ', test_data.size())"
      ],
      "execution_count": 4,
      "outputs": [
        {
          "output_type": "stream",
          "text": [
            "Training size:  torch.Size([30859, 2000])\n",
            "Testing size:  torch.Size([3429, 2000])\n"
          ],
          "name": "stdout"
        }
      ]
    },
    {
      "cell_type": "markdown",
      "metadata": {
        "id": "5RO5KSf4XbQH"
      },
      "source": [
        "GPU compute setup"
      ]
    },
    {
      "cell_type": "code",
      "metadata": {
        "id": "CUvv-GejXafH",
        "colab": {
          "base_uri": "https://localhost:8080/",
          "height": 35
        },
        "outputId": "54217607-f71a-431e-ecf7-bd3198ed5329"
      },
      "source": [
        "device = th.device('cuda' if th.cuda.is_available() else 'cpu')\n",
        "th.cuda.get_device_name()\n"
      ],
      "execution_count": 5,
      "outputs": [
        {
          "output_type": "execute_result",
          "data": {
            "application/vnd.google.colaboratory.intrinsic+json": {
              "type": "string"
            },
            "text/plain": [
              "'Tesla P100-PCIE-16GB'"
            ]
          },
          "metadata": {
            "tags": []
          },
          "execution_count": 5
        }
      ]
    },
    {
      "cell_type": "markdown",
      "metadata": {
        "id": "5Y-voGwmLp-z"
      },
      "source": [
        "## Model"
      ]
    },
    {
      "cell_type": "code",
      "metadata": {
        "id": "BHLrodQohxol"
      },
      "source": [
        "# Hyperparameters\n",
        "vocab_size = len(th.unique(train_data)) # number of unique amino acids\n",
        "sequence_length = 2000 # maximum length of sequence\n",
        "embedding_size = 11 # \n",
        "hidden_size = 512\n",
        "num_classes = 10 # number of different proteins\n",
        "lr = 0.001\n",
        "batch_size = 64\n",
        "n_epochs = 20\n",
        "\n",
        "# BiLSTM Params\n",
        "num_layers = 1 # number of layers for BiLTSM model\n",
        "\n",
        "# CNN Params\n",
        "n_filters = 100\n",
        "filter_sizes = [3, 10, 20, 40]\n"
      ],
      "execution_count": 7,
      "outputs": []
    },
    {
      "cell_type": "code",
      "metadata": {
        "id": "M-8FGQzg9vkP"
      },
      "source": [
        "class Dataset(th.utils.data.Dataset):\n",
        "  'Characterizes a dataset for PyTorch'\n",
        "  def __init__(self, X, y):\n",
        "        'Initialization'\n",
        "        self.X = X\n",
        "        self.y = y\n",
        "        self.list_IDs = [i for i in range(len(X))]\n",
        "\n",
        "  def __len__(self):\n",
        "        'Denotes the total number of samples'\n",
        "        return len(self.list_IDs)\n",
        "\n",
        "  def __getitem__(self, index):\n",
        "        'Generates one sample of data'\n",
        "        # Select sample\n",
        "        ID = self.list_IDs[index]\n",
        "        # Load data and get label\n",
        "        X = self.X[ID]\n",
        "        y = self.y[ID]\n",
        "        return X, y"
      ],
      "execution_count": 8,
      "outputs": []
    },
    {
      "cell_type": "markdown",
      "metadata": {
        "id": "gSovulC4iee_"
      },
      "source": [
        "### BiLSTM"
      ]
    },
    {
      "cell_type": "code",
      "metadata": {
        "colab": {
          "base_uri": "https://localhost:8080/"
        },
        "id": "tSBQuT7kLrLe",
        "outputId": "bf6713a9-4071-4b95-b19c-fe0a76a43d7d"
      },
      "source": [
        "class BiLSTM(nn.Module):\n",
        "  def __init__(self, vocab_size, embedding_size, hidden_size, num_layers, num_classes, batch_size):\n",
        "    \"\"\"\n",
        "    vocab_size: int, number of words in vocbulary\n",
        "    emedding_size: int, embedding dimension\n",
        "    hidden_size: int, size of hidden layer\n",
        "    num_layers: int, number of LSTM layers\n",
        "    num_classes: number of classes\n",
        "    batch_size: size of mini batches\n",
        "    \"\"\"\n",
        "    super(BiLSTM, self).__init__()\n",
        "    self.hidden_size = hidden_size\n",
        "    self.num_layers = num_layers\n",
        "    self.batch_size = batch_size\n",
        "    self.embedding = nn.Embedding(vocab_size, embedding_size)\n",
        "    # self.hidden = self.init_hidden()\n",
        "    self.lstm = nn.LSTM(embedding_size, hidden_size, num_layers, batch_first=True, bidirectional=True)\n",
        "    self.dropout = nn.Dropout(0.3)\n",
        "    self.fc1 = nn.Linear(hidden_size*2, 128)\n",
        "    self.fc2 = nn.Linear(128, num_classes)\n",
        "  \n",
        "  def init_hidden(self):\n",
        "    # initialise hidden & cell state\n",
        "    h0 = Variable(th.zeros(self.num_layers*2, self.batch_size, self.hidden_size)).to(device)\n",
        "    c0 = Variable(th.zeros(self.num_layers*2, self.batch_size, self.hidden_size)).to(device)\n",
        "    return (h0, c0)\n",
        "\n",
        "  def forward(self, inputs, hidden):\n",
        "    x = self.embedding(inputs) # x=[batch_size, sequence_len, embedding_size]\n",
        "    # lstm_out, self.hidden = self.lstm(x, self.hidden) # lstm_out=[batch_size, sequence_len, hidden_size]\n",
        "    lstm_out, hidden = self.lstm(x, hidden)\n",
        "    lstm_out = lstm_out.permute(1,0,2) # lstm_out=[sequence_len, batch_size, hidden_size]\n",
        "    y = self.fc1(lstm_out[-1]) # take last hidden state, y=[batch_size, num_classes]\n",
        "    y = F.leaky_relu(y, 0.1)\n",
        "    y = self.dropout(y)\n",
        "    y = self.fc2(y)\n",
        "    probs = F.log_softmax(y, dim=1) # probs=[batch_size, num_classes]\n",
        "    return probs\n",
        "\n",
        "# generate model instance\n",
        "bilstm_model = BiLSTM(vocab_size, embedding_size, hidden_size, num_layers, num_classes, batch_size).to(device)\n",
        "print(bilstm_model)"
      ],
      "execution_count": null,
      "outputs": [
        {
          "output_type": "stream",
          "text": [
            "BiLSTM(\n",
            "  (embedding): Embedding(26, 8)\n",
            "  (lstm): LSTM(8, 1024, batch_first=True, bidirectional=True)\n",
            "  (dropout): Dropout(p=0.3, inplace=False)\n",
            "  (fc1): Linear(in_features=2048, out_features=128, bias=True)\n",
            "  (fc2): Linear(in_features=128, out_features=10, bias=True)\n",
            ")\n"
          ],
          "name": "stdout"
        }
      ]
    },
    {
      "cell_type": "markdown",
      "metadata": {
        "id": "_ESFnz-uihgn"
      },
      "source": [
        "### CNN"
      ]
    },
    {
      "cell_type": "code",
      "metadata": {
        "colab": {
          "base_uri": "https://localhost:8080/"
        },
        "id": "nrzoOouaNjLZ",
        "outputId": "a17104f8-d030-4898-d526-0940151800ec"
      },
      "source": [
        "class CNN(nn.Module):\n",
        "  \"\"\"\n",
        "  vocab_size: int, number of words in vocbulary\n",
        "  emedding_size: int, embedding dimension\n",
        "  hidden_size: int, size of hidden layer\n",
        "  n_filters: int, number of filters to use per conv layer\n",
        "  filter_sizes: list(int), list of conv filter sizes\n",
        "  batch_size: size of mini batches\n",
        "  \"\"\"\n",
        "  def __init__(self, vocab_size, embedding_size, hidden_size, n_filters, filter_sizes, num_classes):\n",
        "    super(CNN, self).__init__()        \n",
        "    self.embedding = nn.Embedding(vocab_size, embedding_size)\n",
        "    self.convs = nn.ModuleList([nn.Conv2d(in_channels=1,\n",
        "                                          out_channels=n_filters,\n",
        "                                          kernel_size=(fs, embedding_size)) for fs in filter_sizes])\n",
        "    self.dropout = nn.Dropout(0.5)\n",
        "    self.fc1 = nn.Linear(len(filter_sizes)*n_filters, hidden_size, bias=True)  \n",
        "    self.fc2 = nn.Linear(hidden_size, num_classes, bias=True)\n",
        "\n",
        "  def forward(self, inputs):\n",
        "    x = self.embedding(inputs) # x=[batch_size, seq_len, embedding_size]\n",
        "    x = x.unsqueeze(1) # x=[batch_size, 1, seq_len, embedding_size]  \n",
        "    conv_out = [F.relu(conv(x)).squeeze(3) for conv in self.convs] # conv_n = [batch size, n_filters, seq_len - filter_sizes[n]]\n",
        "    pool_out = [F.max_pool1d(conv, conv.shape[2]).squeeze(2) for conv in conv_out] # pool_n = [batch size, n_filters]\n",
        "    cat = self.dropout(th.cat(pool_out, dim = 1)) # cat = [batch size, len(filter_sizes)*n_filters]\n",
        "    y = self.fc1(F.relu(cat))\n",
        "    y = self.dropout(y)\n",
        "    y = self.fc2(y)\n",
        "    probs = F.log_softmax(y, dim=1) # probs=[batch_size, num_classes]\n",
        "    return probs\n",
        "\n",
        "cnn_model = CNN(vocab_size, embedding_size, hidden_size, n_filters, filter_sizes, num_classes).to(device)\n",
        "print(cnn_model)"
      ],
      "execution_count": null,
      "outputs": [
        {
          "output_type": "stream",
          "text": [
            "CNN(\n",
            "  (embedding): Embedding(26, 8)\n",
            "  (convs): ModuleList(\n",
            "    (0): Conv2d(1, 100, kernel_size=(3, 8), stride=(1, 1))\n",
            "    (1): Conv2d(1, 100, kernel_size=(5, 8), stride=(1, 1))\n",
            "    (2): Conv2d(1, 100, kernel_size=(7, 8), stride=(1, 1))\n",
            "    (3): Conv2d(1, 100, kernel_size=(9, 8), stride=(1, 1))\n",
            "  )\n",
            "  (dropout): Dropout(p=0.5, inplace=False)\n",
            "  (fc1): Linear(in_features=400, out_features=1024, bias=True)\n",
            "  (fc2): Linear(in_features=1024, out_features=15, bias=True)\n",
            ")\n"
          ],
          "name": "stdout"
        }
      ]
    },
    {
      "cell_type": "markdown",
      "metadata": {
        "id": "6GbsIYkaipHN"
      },
      "source": [
        "### CNN BiLSTM"
      ]
    },
    {
      "cell_type": "code",
      "metadata": {
        "id": "VRWB5bVttvEj"
      },
      "source": [
        "class CNN_BiLSTM(nn.Module):\n",
        "  def __init__(self, vocab_size, embedding_size, hidden_size, n_filters, filter_sizes, num_layers, num_classes, batch_size):\n",
        "    \"\"\"\n",
        "    vocab_size: int, number of words in vocbulary\n",
        "    emedding_size: int, embedding dimension\n",
        "    hidden_size: int, size of hidden layer\n",
        "    num_layers: int, number of LSTM layers\n",
        "    num_classes: number of classes\n",
        "    batch_size: size of mini batches\n",
        "    \"\"\"\n",
        "    super(CNN_BiLSTM, self).__init__()\n",
        "    self.hidden_size = hidden_size\n",
        "    self.num_layers = num_layers\n",
        "    self.batch_size = batch_size\n",
        "    self.embedding = nn.Embedding(vocab_size, embedding_size)\n",
        "    self.convs = nn.ModuleList([nn.Conv2d(in_channels=1,\n",
        "                                          out_channels=n_filters,\n",
        "                                          kernel_size=(fs, embedding_size)) for fs in filter_sizes])\n",
        "    self.lstm = nn.LSTM(embedding_size, hidden_size, num_layers, batch_first=True, bidirectional=True)\n",
        "    self.dropout = nn.Dropout(0.3)\n",
        "    l = n_filters*len(filter_sizes) + hidden_size*2\n",
        "    self.fc1 = nn.Linear(l, l//2)\n",
        "    self.fc2 = nn.Linear(l//2, num_classes)\n",
        "  \n",
        "  def init_hidden(self):\n",
        "    # initialise hidden & cell state\n",
        "    h0 = Variable(th.zeros(self.num_layers*2, self.batch_size, self.hidden_size)).to(device)\n",
        "    c0 = Variable(th.zeros(self.num_layers*2, self.batch_size, self.hidden_size)).to(device)\n",
        "    return (h0, c0)\n",
        "\n",
        "  def forward(self, inputs, hidden):\n",
        "    x = self.embedding(inputs) # x=[batch_size, seq_len, embedding_size]\n",
        "\n",
        "    cnn_x = x.unsqueeze(1) # x=[batch_size, 1, seq_len, embedding_size]  \n",
        "    cnn_x = [F.relu(conv(cnn_x)).squeeze(3) for conv in self.convs] # conv_n = [batch size, n_filters, seq_len - filter_sizes[n]]\n",
        "    cnn_x = [F.max_pool1d(conv, conv.shape[2]).squeeze(2) for conv in cnn_x]\n",
        "    cnn_out = self.dropout(th.cat(cnn_x, dim = 1))\n",
        "\n",
        "    lstm_out, hidden = self.lstm(x, hidden)\n",
        "    lstm_out = lstm_out.permute(1,0,2) # lstm_out=[sequence_len, batch_size, hidden_size] because batch_first = True\n",
        "    # feature extraction 1 using maxpool1d over all states\n",
        "    # lstm_out = th.transpose(lstm_out, 0, 1)\n",
        "    # lstm_out = th.transpose(lstm_out, 1, 2)\n",
        "    # lstm_out = F.max_pool1d(lstm_out, lstm_out.size(2)).squeeze(2)\n",
        "    # feature extraction 2 taking last hidden state\n",
        "    lstm_out = lstm_out[-1]\n",
        "    lstm_out = F.relu(lstm_out)\n",
        "\n",
        "    # concatenate CNN and LSTM output before FC layers\n",
        "    cnn_out = th.transpose(cnn_out, 0, 1)\n",
        "    lstm_out = th.transpose(lstm_out, 0, 1)\n",
        "    cnn_lstm_out = th.cat((cnn_out, lstm_out), 0)\n",
        "    cnn_lstm_out = th.transpose(cnn_lstm_out, 0, 1)\n",
        "\n",
        "    # FC layers\n",
        "    y = F.relu(cnn_lstm_out)\n",
        "    y = self.fc1(y)\n",
        "    y = self.dropout(y)\n",
        "    y = F.relu(y)\n",
        "    y = self.fc2(y)\n",
        "    probs = F.log_softmax(y, dim=1) # probs=[batch_size, num_classes]\n",
        "    return probs\n",
        "\n",
        "# generate model instance\n",
        "# cnnbilstm_model = CNN_BiLSTM(vocab_size, embedding_size, hidden_size, n_filters, filter_sizes, num_layers, num_classes, batch_size).to(device)\n",
        "# print(cnnbilstm_model)"
      ],
      "execution_count": 9,
      "outputs": []
    },
    {
      "cell_type": "markdown",
      "metadata": {
        "id": "l9C0bSmKJzHk"
      },
      "source": [
        "## Training"
      ]
    },
    {
      "cell_type": "markdown",
      "metadata": {
        "id": "Zjoab-ELJuNF"
      },
      "source": [
        "#### Utils"
      ]
    },
    {
      "cell_type": "code",
      "metadata": {
        "colab": {
          "base_uri": "https://localhost:8080/"
        },
        "id": "D4FYiFul-wzr",
        "outputId": "dd200b97-7472-4954-d6d7-f29bd8af2f44"
      },
      "source": [
        "\n",
        "# visualize tensor dimensions after each layer\n",
        "batch, label = list(train_generator)[0]\n",
        "label = th.argmax(label, 1).to(device)\n",
        "batch = batch.to(device)\n",
        "\n",
        "# initialise layers\n",
        "emb = nn.Embedding(vocab_size, embedding_size).to(device)\n",
        "convs = nn.ModuleList([nn.Conv2d(in_channels=1, out_channels=n_filters, kernel_size=(fs, embedding_size)) for fs in filter_sizes]).to(device)\n",
        "lstm = nn.LSTM(embedding_size, hidden_size, num_layers, batch_first=True, bidirectional=True).to(device)\n",
        "lin = nn.Linear(hidden_size*2, num_classes).to(device)\n",
        "\n",
        "# init hidden/cell state\n",
        "h0 = Variable(th.zeros(num_layers*2, batch_size, hidden_size)).to(device)\n",
        "c0 = Variable(th.zeros(num_layers*2, batch_size, hidden_size)).to(device)\n",
        "\n",
        "x = emb(batch)\n",
        "print('emb_out:', x.size())\n",
        "cnn_x = x.unsqueeze(1)\n",
        "print('cnn_emb_out:', cnn_x.size())\n",
        "\n",
        "# CNN\n",
        "cnn_out = [F.relu(conv(cnn_x)).squeeze(3) for conv in convs]\n",
        "cnn_out = [F.max_pool1d(conv, conv.shape[2]).squeeze(2) for conv in cnn_out]\n",
        "cnn_out = th.cat(cnn_out, dim = 1)\n",
        "print('cnn_out:', cnn_out.size())\n",
        "cnn_out = th.transpose(cnn_out, 0, 1)\n",
        "print('cnn_permute_out:', cnn_out.size())\n",
        "\n",
        "# LSTM\n",
        "lstm_out, _ = lstm(lstm_x, (h0, c0))\n",
        "print('lstm_out:', lstm_out.size())\n",
        "lstm_out = lstm_out.permute(1,0,2) # lstm_out=[sequence_len, batch_size, hidden_size]\n",
        "print('lstm_out (permute):', lstm_out.size())\n",
        "# lstm_out = th.transpose(lstm_out, 0, 1)\n",
        "# lstm_out = th.transpose(lstm_out, 1, 2)\n",
        "# lstm_out = F.max_pool1d(lstm_out, lstm_out.size(2)).squeeze(2)\n",
        "lstm_out = lstm_out[-1] # take last hidden state\n",
        "lstm_out = th.transpose(lstm_out, 0, 1)\n",
        "print('lstm_permute_out:', lstm_out.size())\n",
        "\n",
        "cnn_lstm_out = th.cat((cnn_out, lstm_out), 0)\n",
        "print('cnn_lstm_out:', cnn_lstm_out.size())\n",
        "\n",
        "# lin_out = lin(lstm_out)\n",
        "# print('lin_out:', lin_out.size())\n",
        "# y = F.log_softmax(lin_out, dim=1)\n",
        "# print('activation_out:', y.size())"
      ],
      "execution_count": null,
      "outputs": [
        {
          "output_type": "stream",
          "text": [
            "emb_out: torch.Size([16, 2000, 8])\n",
            "cnn_emb_out: torch.Size([16, 1, 2000, 8])\n",
            "cnn_out: torch.Size([16, 200])\n",
            "cnn_permute_out: torch.Size([200, 16])\n",
            "lstm_out: torch.Size([16, 2000, 1024])\n",
            "lstm_out (permute): torch.Size([2000, 16, 1024])\n",
            "lstm_permute_out: torch.Size([1024, 16])\n",
            "cnn_lstm_out: torch.Size([1224, 16])\n"
          ],
          "name": "stdout"
        }
      ]
    },
    {
      "cell_type": "markdown",
      "metadata": {
        "id": "1TpxJbaQU3cc"
      },
      "source": [
        "#### Training Utils"
      ]
    },
    {
      "cell_type": "code",
      "metadata": {
        "id": "OGziBZpjJ5I_"
      },
      "source": [
        "# Batch training loop\n",
        "def train(dataloader, model, optimizer, criterion, pred_func):\n",
        "  \"\"\"\n",
        "  Main function for training LSTM model and printing prompt\n",
        "  \"\"\"\n",
        "  model.train()\n",
        "  total_acc, total_count = 0, 0\n",
        "  log_interval = 100\n",
        "  start_time = time.time()\n",
        "\n",
        "  for idx, (batch, label) in enumerate(dataloader):\n",
        "    batch, label = batch.to(device), label.to(device)\n",
        "    model.zero_grad()\n",
        "    model, pred = pred_func(model, batch)\n",
        "    label = th.argmax(label, 1) # one_hot --> indexing\n",
        "    loss = criterion(pred, label)\n",
        "    loss.backward()\n",
        "    th.nn.utils.clip_grad_norm_(model.parameters(), 0.1)\n",
        "    optimizer.step()\n",
        "    total_acc += (pred.argmax(1) == label).sum().item()\n",
        "    total_count += label.size(0)\n",
        "    if idx % log_interval == 0 and idx > 0:\n",
        "        elapsed = time.time() - start_time\n",
        "        print('| epoch {:3d} | {:5d}/{:5d} batches '\n",
        "              '| accuracy {:8.3f}'.format(epoch, idx, len(dataloader), total_acc/total_count))\n",
        "        total_acc, total_count = 0, 0\n",
        "        start_time = time.time()\n",
        "\n",
        "# batch evaluation loop \n",
        "def evaluate(dataloader, model, criterion, pred_func):\n",
        "  \"\"\"\n",
        "  Main function for evaluating LSTM model & printing prompt\n",
        "  \"\"\"\n",
        "  model.eval()\n",
        "  total_acc, total_count = 0, 0\n",
        "  metrics = {'acc': float(), 'loss': float()}\n",
        "\n",
        "  with th.no_grad():\n",
        "    for idx, (batch, label) in enumerate(dataloader):\n",
        "      batch, label = batch.to(device), label.to(device)\n",
        "      model, pred = pred_func(model, batch)\n",
        "      label = th.argmax(label, 1) # one_hot --> indexing\n",
        "      loss = criterion(pred, label)\n",
        "      total_acc += (pred.argmax(1) == label).sum().item()\n",
        "      total_count += label.size(0)\n",
        "  metrics['acc'] = total_acc/total_count\n",
        "  metrics['loss'] = loss.item()\n",
        "  return metrics\n",
        "\n",
        "def append_metrics(history, metrics):\n",
        "  \"\"\" append metrics dictionary to history dictionary \"\"\"\n",
        "  for key in metrics.keys():\n",
        "    history[key].append(metrics[key])\n",
        "  return history\n",
        "\n",
        "def LSTM_pred(model, batch):\n",
        "  \"\"\" LSTM initialisation and prediction for training loop \"\"\"\n",
        "  hidden = model.init_hidden() # initalise hidden states\n",
        "  pred = model(batch, hidden)\n",
        "  return model, pred\n",
        "\n",
        "def CNN_pred(model, batch):\n",
        "  \"\"\" CNN prediction for taining loop \"\"\"\n",
        "  pred = model(batch)\n",
        "  return model, pred"
      ],
      "execution_count": 10,
      "outputs": []
    },
    {
      "cell_type": "code",
      "metadata": {
        "colab": {
          "base_uri": "https://localhost:8080/"
        },
        "id": "6Wy12DhgwvnK",
        "outputId": "bb9c7b3f-83c0-405d-e6b4-3235f4238fde"
      },
      "source": [
        "# Train/Val/Test generators\n",
        "X_train, X_val, y_train, y_val = train_test_split(train_data, train_labels, test_size=.1)\n",
        "X_test, y_test = test_data, test_labels\n",
        "train_set = Dataset(X_train, y_train)\n",
        "train_generator = DataLoader(train_set, batch_size=batch_size, shuffle=True, drop_last=True)\n",
        "val_set = Dataset(X_val, y_val)\n",
        "val_generator = DataLoader(val_set, batch_size=batch_size, shuffle=True, drop_last=True)\n",
        "test_set = Dataset(X_test, y_test)\n",
        "test_generator = DataLoader(test_set, batch_size=batch_size, shuffle=True, drop_last=True)\n",
        "print('Nb training examples:', len(X_train))\n",
        "print('Nb validation examples:', len(X_val))\n",
        "print('Nb test examples:', len(X_test))\n",
        "# X_train, X_val, X_test, y_train, y_val, y_test =  X_train.to(device), X_val.to(device), X_test.to(device), y_train.to(device), y_val.to(device), y_test.to(device)\n",
        "print('Is CUDA? Train: {}, Val: {}, Test: {}'.format(X_train.is_cuda, X_val.is_cuda, X_test.is_cuda))"
      ],
      "execution_count": 11,
      "outputs": [
        {
          "output_type": "stream",
          "text": [
            "Nb training examples: 27773\n",
            "Nb validation examples: 3086\n",
            "Nb test examples: 3429\n",
            "Is CUDA? Train: False, Val: False, Test: False\n"
          ],
          "name": "stdout"
        }
      ]
    },
    {
      "cell_type": "code",
      "metadata": {
        "colab": {
          "base_uri": "https://localhost:8080/"
        },
        "id": "4Z4AlhGH-eEm",
        "outputId": "2a7e9824-c591-48af-b318-fe79caa1e878"
      },
      "source": [
        "# save weigths to new directory for each training\n",
        "save_dir = f'/content/gdrive/My Drive/Colab Notebooks/Protein Classification/Weights'\n",
        "date = datetime.now().strftime(\"%Y%m%d-%I%M_%p\")\n",
        "new_dir = os.path.join(save_dir, 'training_'+ date)\n",
        "os.makedirs(new_dir)\n",
        "\n",
        "total_accu=None\n",
        "train_hist = {'acc': [], 'loss': []}\n",
        "val_hist = {'acc': [], 'loss': []}\n",
        "\n",
        "# input model and prediction function for training\n",
        "# model = CNN(vocab_size, embedding_size, hidden_size, n_filters, filter_sizes, num_classes).to(device)\n",
        "# model = BiLSTM(vocab_size, embedding_size, hidden_size, num_layers, num_classes, batch_size).to(device)\n",
        "model = CNN_BiLSTM(vocab_size, embedding_size, hidden_size, n_filters, filter_sizes, num_layers, num_classes, batch_size).to(device)\n",
        "pred_func = LSTM_pred\n",
        "name = model.__class__.__name__ # model name\n",
        "\n",
        "criterion = nn.CrossEntropyLoss()\n",
        "optimizer = optim.Adam(model.parameters(), lr=lr)\n",
        "scheduler = optim.lr_scheduler.StepLR(optimizer, step_size=1., gamma=0.1)\n",
        "\n",
        "for epoch in range(1, n_epochs+ 1):\n",
        "  epoch_start_time = time.time()\n",
        "  # train\n",
        "  train(train_generator, model, optimizer, criterion, pred_func)\n",
        "  # evaluate\n",
        "  train_metrics = evaluate(train_generator, model, criterion, pred_func)\n",
        "  val_metrics = evaluate(val_generator, model, criterion, pred_func)\n",
        "  # log history\n",
        "  train_hist = append_metrics(train_hist, train_metrics)\n",
        "  val_hist = append_metrics(val_hist, val_metrics)\n",
        "  # save model\n",
        "  th.save({'epoch': epoch,\n",
        "            'model_state_dict': model.state_dict(),\n",
        "            'optimizer_state_dict': optimizer.state_dict()},\n",
        "            os.path.join(new_dir, name +'_'+ str(epoch) +'.pt'))\n",
        "  # update accuracy for each epoch\n",
        "  if total_accu is not None and total_accu > val_metrics['acc']:\n",
        "    scheduler.step()\n",
        "  else:\n",
        "    total_accu = val_metrics['acc']\n",
        "  print('-' * 59)\n",
        "  print('| end of epoch {:3d} | time: {:5.2f}s | '\n",
        "        'val accuracy {:8.3f} '.format(epoch,time.time()-epoch_start_time,val_metrics['acc']))\n",
        "  print('-' * 59)"
      ],
      "execution_count": 12,
      "outputs": [
        {
          "output_type": "stream",
          "text": [
            "| epoch   1 |   100/  433 batches | accuracy    0.288\n",
            "| epoch   1 |   200/  433 batches | accuracy    0.427\n",
            "| epoch   1 |   300/  433 batches | accuracy    0.502\n",
            "| epoch   1 |   400/  433 batches | accuracy    0.564\n",
            "-----------------------------------------------------------\n",
            "| end of epoch   1 | time: 288.09s | val accuracy    0.629 \n",
            "-----------------------------------------------------------\n",
            "| epoch   2 |   100/  433 batches | accuracy    0.644\n",
            "| epoch   2 |   200/  433 batches | accuracy    0.666\n",
            "| epoch   2 |   300/  433 batches | accuracy    0.690\n",
            "| epoch   2 |   400/  433 batches | accuracy    0.693\n",
            "-----------------------------------------------------------\n",
            "| end of epoch   2 | time: 287.78s | val accuracy    0.724 \n",
            "-----------------------------------------------------------\n",
            "| epoch   3 |   100/  433 batches | accuracy    0.745\n",
            "| epoch   3 |   200/  433 batches | accuracy    0.757\n",
            "| epoch   3 |   300/  433 batches | accuracy    0.745\n",
            "| epoch   3 |   400/  433 batches | accuracy    0.757\n",
            "-----------------------------------------------------------\n",
            "| end of epoch   3 | time: 288.43s | val accuracy    0.781 \n",
            "-----------------------------------------------------------\n",
            "| epoch   4 |   100/  433 batches | accuracy    0.800\n",
            "| epoch   4 |   200/  433 batches | accuracy    0.800\n",
            "| epoch   4 |   300/  433 batches | accuracy    0.788\n",
            "| epoch   4 |   400/  433 batches | accuracy    0.790\n",
            "-----------------------------------------------------------\n",
            "| end of epoch   4 | time: 288.51s | val accuracy    0.804 \n",
            "-----------------------------------------------------------\n",
            "| epoch   5 |   100/  433 batches | accuracy    0.827\n",
            "| epoch   5 |   200/  433 batches | accuracy    0.820\n",
            "| epoch   5 |   300/  433 batches | accuracy    0.819\n",
            "| epoch   5 |   400/  433 batches | accuracy    0.816\n",
            "-----------------------------------------------------------\n",
            "| end of epoch   5 | time: 288.02s | val accuracy    0.820 \n",
            "-----------------------------------------------------------\n",
            "| epoch   6 |   100/  433 batches | accuracy    0.858\n",
            "| epoch   6 |   200/  433 batches | accuracy    0.845\n",
            "| epoch   6 |   300/  433 batches | accuracy    0.845\n",
            "| epoch   6 |   400/  433 batches | accuracy    0.833\n",
            "-----------------------------------------------------------\n",
            "| end of epoch   6 | time: 287.57s | val accuracy    0.820 \n",
            "-----------------------------------------------------------\n",
            "| epoch   7 |   100/  433 batches | accuracy    0.863\n",
            "| epoch   7 |   200/  433 batches | accuracy    0.856\n",
            "| epoch   7 |   300/  433 batches | accuracy    0.852\n",
            "| epoch   7 |   400/  433 batches | accuracy    0.852\n",
            "-----------------------------------------------------------\n",
            "| end of epoch   7 | time: 288.37s | val accuracy    0.826 \n",
            "-----------------------------------------------------------\n",
            "| epoch   8 |   100/  433 batches | accuracy    0.875\n",
            "| epoch   8 |   200/  433 batches | accuracy    0.875\n",
            "| epoch   8 |   300/  433 batches | accuracy    0.866\n",
            "| epoch   8 |   400/  433 batches | accuracy    0.859\n",
            "-----------------------------------------------------------\n",
            "| end of epoch   8 | time: 288.98s | val accuracy    0.815 \n",
            "-----------------------------------------------------------\n",
            "| epoch   9 |   100/  433 batches | accuracy    0.903\n",
            "| epoch   9 |   200/  433 batches | accuracy    0.897\n",
            "| epoch   9 |   300/  433 batches | accuracy    0.906\n",
            "| epoch   9 |   400/  433 batches | accuracy    0.905\n",
            "-----------------------------------------------------------\n",
            "| end of epoch   9 | time: 288.68s | val accuracy    0.842 \n",
            "-----------------------------------------------------------\n",
            "| epoch  10 |   100/  433 batches | accuracy    0.909\n",
            "| epoch  10 |   200/  433 batches | accuracy    0.910\n",
            "| epoch  10 |   300/  433 batches | accuracy    0.914\n",
            "| epoch  10 |   400/  433 batches | accuracy    0.905\n",
            "-----------------------------------------------------------\n",
            "| end of epoch  10 | time: 288.12s | val accuracy    0.845 \n",
            "-----------------------------------------------------------\n",
            "| epoch  11 |   100/  433 batches | accuracy    0.914\n",
            "| epoch  11 |   200/  433 batches | accuracy    0.916\n",
            "| epoch  11 |   300/  433 batches | accuracy    0.916\n",
            "| epoch  11 |   400/  433 batches | accuracy    0.919\n",
            "-----------------------------------------------------------\n",
            "| end of epoch  11 | time: 287.54s | val accuracy    0.844 \n",
            "-----------------------------------------------------------\n",
            "| epoch  12 |   100/  433 batches | accuracy    0.921\n",
            "| epoch  12 |   200/  433 batches | accuracy    0.922\n",
            "| epoch  12 |   300/  433 batches | accuracy    0.919\n",
            "| epoch  12 |   400/  433 batches | accuracy    0.922\n",
            "-----------------------------------------------------------\n",
            "| end of epoch  12 | time: 288.01s | val accuracy    0.843 \n",
            "-----------------------------------------------------------\n",
            "| epoch  13 |   100/  433 batches | accuracy    0.929\n",
            "| epoch  13 |   200/  433 batches | accuracy    0.920\n",
            "| epoch  13 |   300/  433 batches | accuracy    0.921\n",
            "| epoch  13 |   400/  433 batches | accuracy    0.917\n",
            "-----------------------------------------------------------\n",
            "| end of epoch  13 | time: 288.16s | val accuracy    0.843 \n",
            "-----------------------------------------------------------\n",
            "| epoch  14 |   100/  433 batches | accuracy    0.914\n",
            "| epoch  14 |   200/  433 batches | accuracy    0.923\n",
            "| epoch  14 |   300/  433 batches | accuracy    0.922\n",
            "| epoch  14 |   400/  433 batches | accuracy    0.923\n",
            "-----------------------------------------------------------\n",
            "| end of epoch  14 | time: 287.73s | val accuracy    0.843 \n",
            "-----------------------------------------------------------\n",
            "| epoch  15 |   100/  433 batches | accuracy    0.920\n",
            "| epoch  15 |   200/  433 batches | accuracy    0.921\n",
            "| epoch  15 |   300/  433 batches | accuracy    0.921\n",
            "| epoch  15 |   400/  433 batches | accuracy    0.918\n",
            "-----------------------------------------------------------\n",
            "| end of epoch  15 | time: 288.40s | val accuracy    0.843 \n",
            "-----------------------------------------------------------\n",
            "| epoch  16 |   100/  433 batches | accuracy    0.923\n",
            "| epoch  16 |   200/  433 batches | accuracy    0.914\n",
            "| epoch  16 |   300/  433 batches | accuracy    0.920\n",
            "| epoch  16 |   400/  433 batches | accuracy    0.919\n",
            "-----------------------------------------------------------\n",
            "| end of epoch  16 | time: 288.28s | val accuracy    0.844 \n",
            "-----------------------------------------------------------\n",
            "| epoch  17 |   100/  433 batches | accuracy    0.920\n",
            "| epoch  17 |   200/  433 batches | accuracy    0.924\n",
            "| epoch  17 |   300/  433 batches | accuracy    0.921\n",
            "| epoch  17 |   400/  433 batches | accuracy    0.920\n",
            "-----------------------------------------------------------\n",
            "| end of epoch  17 | time: 288.19s | val accuracy    0.843 \n",
            "-----------------------------------------------------------\n",
            "| epoch  18 |   100/  433 batches | accuracy    0.921\n",
            "| epoch  18 |   200/  433 batches | accuracy    0.918\n",
            "| epoch  18 |   300/  433 batches | accuracy    0.922\n",
            "| epoch  18 |   400/  433 batches | accuracy    0.928\n",
            "-----------------------------------------------------------\n",
            "| end of epoch  18 | time: 287.57s | val accuracy    0.844 \n",
            "-----------------------------------------------------------\n",
            "| epoch  19 |   100/  433 batches | accuracy    0.922\n",
            "| epoch  19 |   200/  433 batches | accuracy    0.923\n",
            "| epoch  19 |   300/  433 batches | accuracy    0.921\n",
            "| epoch  19 |   400/  433 batches | accuracy    0.921\n",
            "-----------------------------------------------------------\n",
            "| end of epoch  19 | time: 288.43s | val accuracy    0.844 \n",
            "-----------------------------------------------------------\n",
            "| epoch  20 |   100/  433 batches | accuracy    0.922\n",
            "| epoch  20 |   200/  433 batches | accuracy    0.926\n",
            "| epoch  20 |   300/  433 batches | accuracy    0.923\n",
            "| epoch  20 |   400/  433 batches | accuracy    0.919\n",
            "-----------------------------------------------------------\n",
            "| end of epoch  20 | time: 288.62s | val accuracy    0.843 \n",
            "-----------------------------------------------------------\n"
          ],
          "name": "stdout"
        }
      ]
    },
    {
      "cell_type": "code",
      "metadata": {
        "id": "yfGuYpU8XXso"
      },
      "source": [
        "def plot_metrics(train_hist, val_hist, nb_epochs):\n",
        "  \"\"\" plot metrics using model history dictionary \"\"\"\n",
        "  x = range(1, nb_epochs+1)\n",
        "  fig, (ax1, ax2) = plt.subplots(1,2, figsize=(10,5))\n",
        "  fig.tight_layout(pad=3)\n",
        "  ax1.plot(x, train_hist['acc'], color='blue', label='train')\n",
        "  ax1.plot(x, val_hist['acc'], color='orange', label='val')\n",
        "  ax1.set_xlabel('epochs')\n",
        "  ax1.set_ylabel('accuracy %')\n",
        "  ax1.legend()\n",
        "  ax2.plot(x, train_hist['loss'], color='blue', label='train')\n",
        "  ax2.plot(x, val_hist['loss'], color='orange', label='val')\n",
        "  ax2.set_xlabel('epochs')\n",
        "  ax2.set_ylabel('loss')\n",
        "  ax2.legend()\n",
        "\n",
        "  plt.show()\n"
      ],
      "execution_count": 13,
      "outputs": []
    },
    {
      "cell_type": "code",
      "metadata": {
        "colab": {
          "base_uri": "https://localhost:8080/",
          "height": 572
        },
        "id": "Shj6M62cMseS",
        "outputId": "36174ca7-0171-490f-c80b-49f3f66570fc"
      },
      "source": [
        "plot_metrics(train_hist, val_hist, n_epochs)\n",
        "print(model)"
      ],
      "execution_count": 14,
      "outputs": [
        {
          "output_type": "display_data",
          "data": {
            "image/png": "[encoded data removed]",
            "text/plain": [
              "<Figure size 720x360 with 2 Axes>"
            ]
          },
          "metadata": {
            "tags": [],
            "needs_background": "light"
          }
        },
        {
          "output_type": "stream",
          "text": [
            "CNN_BiLSTM(\n",
            "  (embedding): Embedding(26, 11)\n",
            "  (convs): ModuleList(\n",
            "    (0): Conv2d(1, 100, kernel_size=(3, 11), stride=(1, 1))\n",
            "    (1): Conv2d(1, 100, kernel_size=(10, 11), stride=(1, 1))\n",
            "    (2): Conv2d(1, 100, kernel_size=(20, 11), stride=(1, 1))\n",
            "    (3): Conv2d(1, 100, kernel_size=(40, 11), stride=(1, 1))\n",
            "  )\n",
            "  (lstm): LSTM(11, 512, batch_first=True, bidirectional=True)\n",
            "  (dropout): Dropout(p=0.3, inplace=False)\n",
            "  (fc1): Linear(in_features=1424, out_features=712, bias=True)\n",
            "  (fc2): Linear(in_features=712, out_features=10, bias=True)\n",
            ")\n"
          ],
          "name": "stdout"
        }
      ]
    },
    {
      "cell_type": "markdown",
      "metadata": {
        "id": "MR9uxqN8EfOj"
      },
      "source": [
        "## Eval"
      ]
    },
    {
      "cell_type": "code",
      "metadata": {
        "id": "DX9jiomWRJeE",
        "colab": {
          "base_uri": "https://localhost:8080/"
        },
        "outputId": "cab7f83a-fd08-4568-9ecb-b49d3d1e64b9"
      },
      "source": [
        "# load best model and test it\n",
        "weights_dir = os.path.join(save_dir, 'training_CNN_BiLSTM_3')\n",
        "checkpoint = th.load(os.path.join(weights_dir, 'CNN_BiLSTM_13.pt'))\n",
        "model.load_state_dict(checkpoint['model_state_dict'])\n",
        "optimizer.load_state_dict(checkpoint['optimizer_state_dict'])\n",
        "epoch = checkpoint['epoch']\n",
        "\n",
        "test_metrics = evaluate(test_generator, model, criterion, pred_func)\n",
        "print(test_metrics)"
      ],
      "execution_count": 18,
      "outputs": [
        {
          "output_type": "stream",
          "text": [
            "{'acc': 0.8313679245283019, 'loss': 0.6948018670082092}\n"
          ],
          "name": "stdout"
        }
      ]
    },
    {
      "cell_type": "code",
      "metadata": {
        "colab": {
          "base_uri": "https://localhost:8080/"
        },
        "id": "QwcmzsGP9CuB",
        "outputId": "2ba6cfa6-dec1-44fd-ac01-07276984102c"
      },
      "source": [
        "# analyse detection percentage\n",
        "\n",
        "df = pd.read_csv(os.path.join(work_dir, 'df.csv'))\n",
        "count = Counter(df.classification)\n",
        "sort = count.most_common()[:num_classes]\n",
        "classes = np.array(sort)[:, 0]\n",
        "\n",
        "class_correct = list(0. for i in range(num_classes))\n",
        "class_total = list(0. for i in range(num_classes))\n",
        "\n",
        "y_true = []\n",
        "y_pred = []\n",
        "\n",
        "with th.no_grad():\n",
        "  for idx, (batch, labels) in enumerate(test_generator):\n",
        "    batch, labels = batch.to(device), labels.to(device)\n",
        "    model, pred = pred_func(model, batch)\n",
        "    labels = th.argmax(labels, 1) # one_hot --> indexing\n",
        "    _, predicted = th.max(pred, 1)\n",
        "    y_true = np.concatenate((y_true, labels.cpu().numpy()))\n",
        "    y_pred = np.concatenate((y_pred, predicted.cpu().numpy()))\n",
        "    c = (predicted == labels).squeeze()\n",
        "    for i in range(len(labels)):\n",
        "        label = labels[i]\n",
        "        class_correct[label] += c[i].item()\n",
        "        class_total[label] += 1\n",
        "\n",
        "for i in range(num_classes):\n",
        "  print('{} acc: {:.2f}%'.format(classes[i], 100 * class_correct[i] / class_total[i]))"
      ],
      "execution_count": 21,
      "outputs": [
        {
          "output_type": "stream",
          "text": [
            "HYDROLASE acc: 88.72%\n",
            "TRANSFERASE acc: 45.99%\n",
            "OXIDOREDUCTASE acc: 91.39%\n",
            "IMMUNE SYSTEM acc: 81.19%\n",
            "LYASE acc: 92.66%\n",
            "TRANSCRIPTION acc: 63.16%\n",
            "TRANSPORT PROTEIN acc: 78.61%\n",
            "HYDROLASE/HYDROLASE INHIBITOR acc: 85.32%\n",
            "SIGNALING PROTEIN acc: 47.69%\n",
            "TRANSFERASE/TRANSFERASE INHIBITOR acc: 77.48%\n"
          ],
          "name": "stdout"
        }
      ]
    },
    {
      "cell_type": "code",
      "metadata": {
        "colab": {
          "base_uri": "https://localhost:8080/",
          "height": 900
        },
        "id": "OR00r3D4iy0L",
        "outputId": "a9bfd70c-9db8-4e68-fed8-b726b7f832f8"
      },
      "source": [
        "cm = confusion_matrix(y_true, y_pred)\n",
        "class_report = classification_report(y_true, y_pred, target_names=classes)\n",
        "\n",
        "cm = cm.astype('float') / cm.sum(axis=1)[:, np.newaxis]\n",
        "np.set_printoptions(precision=2)\n",
        "plt.figure(figsize=(7,7))\n",
        "plt.imshow(cm, interpolation='nearest', cmap=plt.cm.Blues)\n",
        "plt.title('Confusion matrix')\n",
        "plt.colorbar()\n",
        "tick_marks = np.arange(len(classes))\n",
        "plt.xticks(tick_marks, classes, rotation=90)\n",
        "plt.yticks(tick_marks, classes)\n",
        "plt.ylabel('True label')\n",
        "plt.xlabel('Predicted label')\n",
        "plt.show()\n",
        "\n",
        "print(class_report)"
      ],
      "execution_count": 22,
      "outputs": [
        {
          "output_type": "display_data",
          "data": {
            "image/png": "[encoded data removed]",
            "text/plain": [
              "<Figure size 504x504 with 2 Axes>"
            ]
          },
          "metadata": {
            "tags": [],
            "needs_background": "light"
          }
        },
        {
          "output_type": "stream",
          "text": [
            "                                   precision    recall  f1-score   support\n",
            "\n",
            "                        HYDROLASE       0.84      0.89      0.86       993\n",
            "                      TRANSFERASE       0.60      0.46      0.52       137\n",
            "                   OXIDOREDUCTASE       0.95      0.91      0.93       209\n",
            "                    IMMUNE SYSTEM       0.90      0.81      0.86       218\n",
            "                            LYASE       0.91      0.93      0.92       545\n",
            "                    TRANSCRIPTION       0.70      0.63      0.66       114\n",
            "                TRANSPORT PROTEIN       0.81      0.79      0.80       173\n",
            "    HYDROLASE/HYDROLASE INHIBITOR       0.78      0.85      0.82       722\n",
            "                SIGNALING PROTEIN       0.70      0.48      0.57       130\n",
            "TRANSFERASE/TRANSFERASE INHIBITOR       0.85      0.77      0.81       151\n",
            "\n",
            "                         accuracy                           0.83      3392\n",
            "                        macro avg       0.80      0.75      0.77      3392\n",
            "                     weighted avg       0.83      0.83      0.83      3392\n",
            "\n"
          ],
          "name": "stdout"
        }
      ]
    }
  ]
}