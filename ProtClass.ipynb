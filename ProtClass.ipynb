{
  "nbformat": 4,
  "nbformat_minor": 0,
  "metadata": {
    "accelerator": "GPU",
    "colab": {
      "name": "ProtClass.ipynb",
      "provenance": [],
      "collapsed_sections": [
        "wiIULGzKavQw"
      ],
      "authorship_tag": "ABX9TyNLH+6BkJSd+AQXCBKiJQDB",
      "include_colab_link": true
    },
    "kernelspec": {
      "display_name": "Python 3",
      "name": "python3"
    },
    "language_info": {
      "name": "python"
    }
  },
  "cells": [
    {
      "cell_type": "markdown",
      "metadata": {
        "id": "view-in-github",
        "colab_type": "text"
      },
      "source": [
        "<a href=\"https://colab.research.google.com/github/jgbrasier/protein-classification/blob/main/ProtClass.ipynb\" target=\"_parent\"><img src=\"https://colab.research.google.com/assets/colab-badge.svg\" alt=\"Open In Colab\"/></a>"
      ]
    },
    {
      "cell_type": "markdown",
      "metadata": {
        "id": "Be4cobaaamaP"
      },
      "source": [
        "# Deep sequence models for protein classification"
      ]
    },
    {
      "cell_type": "code",
      "metadata": {
        "id": "K8eXX7Feky3F"
      },
      "source": [
        "import io\n",
        "import os\n",
        "import pandas as pd\n",
        "import matplotlib.pyplot as plt\n",
        "import numpy as np\n",
        "import time\n",
        "from datetime import datetime\n",
        "from collections import Counter\n",
        "from sklearn.preprocessing import LabelBinarizer\n",
        "from keras.preprocessing import text, sequence\n",
        "from keras.preprocessing.text import Tokenizer\n",
        "from sklearn.model_selection import train_test_split\n",
        "import torch as th\n",
        "import torch.nn as nn\n",
        "import torch.nn.functional as F\n",
        "from torch import optim\n",
        "from torch.autograd import Variable\n",
        "from torch.utils.data import DataLoader"
      ],
      "execution_count": 3,
      "outputs": []
    },
    {
      "cell_type": "markdown",
      "metadata": {
        "id": "wiIULGzKavQw"
      },
      "source": [
        "## Downloading data\n",
        "download and save to local drive: https://www.kaggle.com/shahir/protein-data-set\n",
        "\n",
        "### Uploading data to Colab\n",
        "\n",
        "Click on \"chose files\" upload both:\n",
        " - pdb_data_seq.csv\n",
        " - pdb_data_no_dups.csv"
      ]
    },
    {
      "cell_type": "code",
      "metadata": {
        "colab": {
          "resources": {
            "http://localhost:8080/nbextensions/google.colab/files.js": {
              "data": "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",
              "headers": [
                [
                  "content-type",
                  "application/javascript"
                ]
              ],
              "ok": true,
              "status": 200,
              "status_text": ""
            }
          },
          "base_uri": "https://localhost:8080/",
          "height": 72
        },
        "id": "wg_DpKbPXSx6",
        "outputId": "01eb2e4a-741e-4223-82ca-36d67c44a117"
      },
      "source": [
        "from google.colab import files\n",
        "# upload 'pdb_data_seq.csv'\n",
        "uploaded = files.upload()"
      ],
      "execution_count": null,
      "outputs": [
        {
          "output_type": "display_data",
          "data": {
            "text/html": [
              "\n",
              "     <input type=\"file\" id=\"files-8a876246-37d7-4830-9160-df616b839727\" name=\"files[]\" multiple disabled\n",
              "        style=\"border:none\" />\n",
              "     <output id=\"result-8a876246-37d7-4830-9160-df616b839727\">\n",
              "      Upload widget is only available when the cell has been executed in the\n",
              "      current browser session. Please rerun this cell to enable.\n",
              "      </output>\n",
              "      <script src=\"/nbextensions/google.colab/files.js\"></script> "
            ],
            "text/plain": [
              "<IPython.core.display.HTML object>"
            ]
          },
          "metadata": {
            "tags": []
          }
        },
        {
          "output_type": "stream",
          "text": [
            "Saving pdb_data_seq.csv to pdb_data_seq.csv\n"
          ],
          "name": "stdout"
        }
      ]
    },
    {
      "cell_type": "code",
      "metadata": {
        "colab": {
          "resources": {
            "http://localhost:8080/nbextensions/google.colab/files.js": {
              "data": "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",
              "headers": [
                [
                  "content-type",
                  "application/javascript"
                ]
              ],
              "ok": true,
              "status": 200,
              "status_text": ""
            }
          },
          "base_uri": "https://localhost:8080/",
          "height": 72
        },
        "id": "Rxa2w8dPXW6f",
        "outputId": "bef6d070-df67-4393-cbd3-883adcbcb748"
      },
      "source": [
        "# upload 'pdb_data_np_dupes.csv'\n",
        "uploaded2 = files.upload()"
      ],
      "execution_count": null,
      "outputs": [
        {
          "output_type": "display_data",
          "data": {
            "text/html": [
              "\n",
              "     <input type=\"file\" id=\"files-10d52ba8-4ca5-4a53-a34a-cb34be7eb0ee\" name=\"files[]\" multiple disabled\n",
              "        style=\"border:none\" />\n",
              "     <output id=\"result-10d52ba8-4ca5-4a53-a34a-cb34be7eb0ee\">\n",
              "      Upload widget is only available when the cell has been executed in the\n",
              "      current browser session. Please rerun this cell to enable.\n",
              "      </output>\n",
              "      <script src=\"/nbextensions/google.colab/files.js\"></script> "
            ],
            "text/plain": [
              "<IPython.core.display.HTML object>"
            ]
          },
          "metadata": {
            "tags": []
          }
        },
        {
          "output_type": "stream",
          "text": [
            "Saving pdb_data_no_dups.csv to pdb_data_no_dups.csv\n"
          ],
          "name": "stdout"
        }
      ]
    },
    {
      "cell_type": "code",
      "metadata": {
        "id": "xNCJxLQtd71Q"
      },
      "source": [
        "# convert data to pandas dataframe\n",
        "seq = pd.read_csv(io.BytesIO(uploaded['pdb_data_seq.csv']))\n",
        "nodups = pd.read_csv(io.BytesIO(uploaded2['pdb_data_no_dups.csv']))"
      ],
      "execution_count": null,
      "outputs": []
    },
    {
      "cell_type": "markdown",
      "metadata": {
        "id": "0CvPQ70Mkt-0"
      },
      "source": [
        "## Data cleaning and preparation"
      ]
    },
    {
      "cell_type": "markdown",
      "metadata": {
        "id": "0dlMgb_UTHKy"
      },
      "source": [
        "### Data analysis"
      ]
    },
    {
      "cell_type": "code",
      "metadata": {
        "colab": {
          "base_uri": "https://localhost:8080/"
        },
        "id": "jxYMukTCeUzE",
        "outputId": "ad4eda01-aeaa-4efc-da35-81c6bf4caea9"
      },
      "source": [
        "# merge both data frames on structure id, remove duplicates\n",
        "df = nodups.merge(seq, how='inner', on='structureId').drop_duplicates(['structureId'])\n",
        "# remove NaN values\n",
        "df = df.dropna()\n",
        "# keep only proteins and reset indexes\n",
        "df = df[df['macromoleculeType_x'] == 'Protein'].reset_index()\n",
        "# keep structureId, classification, residueCount_x, sequence\n",
        "df = df[['structureId', 'classification', 'residueCount_x', 'sequence']]\n",
        "df.columns = ['structureId', 'classification', 'residueCount', 'sequence']\n",
        "print(\"Total number of unique proteins:\", len(df))"
      ],
      "execution_count": null,
      "outputs": [
        {
          "output_type": "stream",
          "text": [
            "Total number of unique proteins: 60757\n"
          ],
          "name": "stdout"
        }
      ]
    },
    {
      "cell_type": "code",
      "metadata": {
        "colab": {
          "base_uri": "https://localhost:8080/",
          "height": 275
        },
        "id": "iEFYsaROhDxo",
        "outputId": "6e8cd726-5510-402a-cc2b-395b9d393776"
      },
      "source": [
        "df.head()"
      ],
      "execution_count": null,
      "outputs": [
        {
          "output_type": "execute_result",
          "data": {
            "text/html": [
              "<div>\n",
              "<style scoped>\n",
              "    .dataframe tbody tr th:only-of-type {\n",
              "        vertical-align: middle;\n",
              "    }\n",
              "\n",
              "    .dataframe tbody tr th {\n",
              "        vertical-align: top;\n",
              "    }\n",
              "\n",
              "    .dataframe thead th {\n",
              "        text-align: right;\n",
              "    }\n",
              "</style>\n",
              "<table border=\"1\" class=\"dataframe\">\n",
              "  <thead>\n",
              "    <tr style=\"text-align: right;\">\n",
              "      <th></th>\n",
              "      <th>structureId</th>\n",
              "      <th>classification</th>\n",
              "      <th>residueCount</th>\n",
              "      <th>sequence</th>\n",
              "    </tr>\n",
              "  </thead>\n",
              "  <tbody>\n",
              "    <tr>\n",
              "      <th>0</th>\n",
              "      <td>1914</td>\n",
              "      <td>ALU DOMAIN</td>\n",
              "      <td>232</td>\n",
              "      <td>MASMTGGQQMGRIPGNSPRMVLLESEQFLTELTRLFQKCRSSGSVF...</td>\n",
              "    </tr>\n",
              "    <tr>\n",
              "      <th>1</th>\n",
              "      <td>1A04</td>\n",
              "      <td>SIGNAL TRANSDUCTION PROTEIN</td>\n",
              "      <td>430</td>\n",
              "      <td>SNQEPATILLIDDHPMLRTGVKQLISMAPDITVVGEASNGEQGIEL...</td>\n",
              "    </tr>\n",
              "    <tr>\n",
              "      <th>2</th>\n",
              "      <td>1A0R</td>\n",
              "      <td>COMPLEX (TRANSDUCER/TRANSDUCTION)</td>\n",
              "      <td>650</td>\n",
              "      <td>XSELDQLRQEAEQLKNQIRDARKACADATLSQITNNIDPVGRIQMR...</td>\n",
              "    </tr>\n",
              "    <tr>\n",
              "      <th>3</th>\n",
              "      <td>1A2B</td>\n",
              "      <td>ONCOGENE PROTEIN</td>\n",
              "      <td>182</td>\n",
              "      <td>SMAAIRKKLVIVGDVACGKTCLLIVFSKDQFPEVYVPTVFENYVAD...</td>\n",
              "    </tr>\n",
              "    <tr>\n",
              "      <th>4</th>\n",
              "      <td>1A2X</td>\n",
              "      <td>COMPLEX (SKELETAL MUSCLE/MUSCLE PROTEIN)</td>\n",
              "      <td>206</td>\n",
              "      <td>TDQQAEARSYLSEEMIAEFKAAFDMFDADGGGDISVKELGTVMRML...</td>\n",
              "    </tr>\n",
              "  </tbody>\n",
              "</table>\n",
              "</div>"
            ],
            "text/plain": [
              "  structureId  ...                                           sequence\n",
              "0        1914  ...  MASMTGGQQMGRIPGNSPRMVLLESEQFLTELTRLFQKCRSSGSVF...\n",
              "1        1A04  ...  SNQEPATILLIDDHPMLRTGVKQLISMAPDITVVGEASNGEQGIEL...\n",
              "2        1A0R  ...  XSELDQLRQEAEQLKNQIRDARKACADATLSQITNNIDPVGRIQMR...\n",
              "3        1A2B  ...  SMAAIRKKLVIVGDVACGKTCLLIVFSKDQFPEVYVPTVFENYVAD...\n",
              "4        1A2X  ...  TDQQAEARSYLSEEMIAEFKAAFDMFDADGGGDISVKELGTVMRML...\n",
              "\n",
              "[5 rows x 4 columns]"
            ]
          },
          "metadata": {
            "tags": []
          },
          "execution_count": 12
        }
      ]
    },
    {
      "cell_type": "code",
      "metadata": {
        "colab": {
          "base_uri": "https://localhost:8080/",
          "height": 295
        },
        "id": "vvAEt1dEh0Fq",
        "outputId": "9461dc87-8c27-4236-c939-914337d0e00c"
      },
      "source": [
        "plt.hist(df['residueCount'])\n",
        "plt.xlabel('sequence length')\n",
        "plt.title('Distribution of protein sequence lengths')\n",
        "plt.show()"
      ],
      "execution_count": null,
      "outputs": [
        {
          "output_type": "display_data",
          "data": {
            "image/png": "[encoded data removed]",
            "text/plain": [
              "<Figure size 432x288 with 1 Axes>"
            ]
          },
          "metadata": {
            "tags": []
          }
        }
      ]
    },
    {
      "cell_type": "code",
      "metadata": {
        "colab": {
          "base_uri": "https://localhost:8080/"
        },
        "id": "v_klUXYUlGk8",
        "outputId": "353acdc1-a723-4838-b3ce-7c1ac204d5a9"
      },
      "source": [
        "# remove proteins with lengths > 2000 to save compute time on LSTM models\n",
        "max_len = 2000\n",
        "df = df[df['residueCount'] < max_len]\n",
        "print(\"Total number of unique proteins:\", len(df))\n",
        "print(\"Total number of unique classification labels:\", len(df.classification.unique()))"
      ],
      "execution_count": null,
      "outputs": [
        {
          "output_type": "stream",
          "text": [
            "Total number of unique proteins: 57359\n",
            "Total number of unique classification labels: 2052\n"
          ],
          "name": "stdout"
        }
      ]
    },
    {
      "cell_type": "code",
      "metadata": {
        "colab": {
          "base_uri": "https://localhost:8080/",
          "height": 295
        },
        "id": "xCJD9lgdmUU9",
        "outputId": "b23a69c5-b558-4eb8-81d2-3fe13cc29527"
      },
      "source": [
        "plt.hist(df['residueCount'])\n",
        "plt.xlabel('sequence length')\n",
        "plt.title('Distribution of protein sequence lengths')\n",
        "plt.show()"
      ],
      "execution_count": null,
      "outputs": [
        {
          "output_type": "display_data",
          "data": {
            "image/png": "[encoded data removed]",
            "text/plain": [
              "<Figure size 432x288 with 1 Axes>"
            ]
          },
          "metadata": {
            "tags": []
          }
        }
      ]
    },
    {
      "cell_type": "code",
      "metadata": {
        "id": "wi-q9iK2mVx8"
      },
      "source": [
        "# keep only 15 most important classes by instance count\n",
        "N_class = 15\n",
        "count = Counter(df.classification)\n",
        "sort = count.most_common()[:N_class]\n",
        "classes = np.array(sort)[:, 0]\n",
        "df = df[[c in classes for c in df.classification]]\n",
        "sequences = df.sequence.values\n",
        "print(\"Total number of unique proteins:\", len(df))"
      ],
      "execution_count": null,
      "outputs": []
    },
    {
      "cell_type": "code",
      "metadata": {
        "colab": {
          "base_uri": "https://localhost:8080/"
        },
        "id": "Cy96w7EbnnfK",
        "outputId": "a7ba8b18-bb2f-4ae4-982a-087ff5ccc329"
      },
      "source": [
        "df.classification.value_counts()"
      ],
      "execution_count": null,
      "outputs": [
        {
          "output_type": "execute_result",
          "data": {
            "text/plain": [
              "HYDROLASE                            9704\n",
              "TRANSFERASE                          7277\n",
              "OXIDOREDUCTASE                       5544\n",
              "IMMUNE SYSTEM                        2333\n",
              "LYASE                                2177\n",
              "TRANSCRIPTION                        1660\n",
              "TRANSPORT PROTEIN                    1608\n",
              "HYDROLASE/HYDROLASE INHIBITOR        1457\n",
              "SIGNALING PROTEIN                    1286\n",
              "TRANSFERASE/TRANSFERASE INHIBITOR    1242\n",
              "ISOMERASE                            1205\n",
              "LIGASE                               1000\n",
              "VIRAL PROTEIN                         944\n",
              "PROTEIN BINDING                       861\n",
              "MEMBRANE PROTEIN                      772\n",
              "Name: classification, dtype: int64"
            ]
          },
          "metadata": {
            "tags": []
          },
          "execution_count": 17
        }
      ]
    },
    {
      "cell_type": "code",
      "metadata": {
        "colab": {
          "base_uri": "https://localhost:8080/"
        },
        "id": "DSaULcXixKQw",
        "outputId": "94b8305f-a855-4be7-e6b6-32fa41ac4a1f"
      },
      "source": [
        "# one hot encode classes\n",
        "lb = LabelBinarizer()\n",
        "Y = lb.fit_transform(df.classification)\n",
        "\n",
        "# tokenize our sequences\n",
        "# create fit\n",
        "tokenizer = Tokenizer(char_level=True)\n",
        "tokenizer.fit_on_texts(sequences)\n",
        "#represent input data as word rank number sequences\n",
        "X = tokenizer.texts_to_sequences(sequences)\n",
        "X = sequence.pad_sequences(X, maxlen=max_len)\n",
        "print('X shape:', X.shape, 'Y shape:', Y.shape)"
      ],
      "execution_count": null,
      "outputs": [
        {
          "output_type": "stream",
          "text": [
            "X shape: (39070, 2000) Y shape: (39070, 15)\n"
          ],
          "name": "stdout"
        }
      ]
    },
    {
      "cell_type": "code",
      "metadata": {
        "id": "SmGHRNItJZ-K"
      },
      "source": [
        "# 80/20 train test split\n",
        "X_train, X_test, y_train, y_test = train_test_split(X, Y, test_size=.2)\n",
        "X_train = th.from_numpy(X_train)\n",
        "X_test = th.from_numpy(X_test)\n",
        "y_train = th.from_numpy(y_train)\n",
        "y_test = th.from_numpy(y_test)"
      ],
      "execution_count": null,
      "outputs": []
    },
    {
      "cell_type": "markdown",
      "metadata": {
        "id": "YPqHBLQefwlU"
      },
      "source": [
        "### Save/Load PyTorch tensors\n",
        "prevents from loading whole dataset which takes time\n"
      ]
    },
    {
      "cell_type": "code",
      "metadata": {
        "colab": {
          "base_uri": "https://localhost:8080/"
        },
        "id": "1YmTgbrwfj1R",
        "outputId": "d5d9fc36-ca88-4c58-fd6d-cb1fb60a9ec3"
      },
      "source": [
        "# to save/load model on your google drive, you need to mount it first\n",
        "# follow instructions.\n",
        "from google.colab import drive\n",
        "drive.mount('/content/gdrive')"
      ],
      "execution_count": 29,
      "outputs": [
        {
          "output_type": "stream",
          "text": [
            "Drive already mounted at /content/gdrive; to attempt to forcibly remount, call drive.mount(\"/content/gdrive\", force_remount=True).\n"
          ],
          "name": "stdout"
        }
      ]
    },
    {
      "cell_type": "code",
      "metadata": {
        "id": "jIgJuM8FmaB5"
      },
      "source": [
        "# save\n",
        "work_dir = f'/content/gdrive/My Drive/Colab Notebooks/Data'\n",
        "th.save(X_train, os.path.join(work_dir, 'X_train.pt'))\n",
        "th.save(X_test, os.path.join(work_dir, 'X_test.pt'))\n",
        "th.save(y_train, os.path.join(work_dir,'y_train.pt'))\n",
        "th.save(y_test, os.path.join(work_dir, 'y_test.pt'))"
      ],
      "execution_count": null,
      "outputs": []
    },
    {
      "cell_type": "code",
      "metadata": {
        "colab": {
          "base_uri": "https://localhost:8080/"
        },
        "id": "EnMlHDzLhO5w",
        "outputId": "9818b77e-04b4-4e8d-bf10-d30755cb8e70"
      },
      "source": [
        "# load\n",
        "work_dir = f'/content/gdrive/My Drive/Colab Notebooks/Data'\n",
        "X_train = th.load(os.path.join(work_dir, 'X_train.pt'))\n",
        "Data_test = th.load(os.path.join(work_dir, 'X_test.pt'))\n",
        "y_train = th.load(os.path.join(work_dir,'y_train.pt'))\n",
        "Label_test = th.load(os.path.join(work_dir, 'y_test.pt'))\n",
        "assert len(X_train) == len(y_train)\n",
        "assert len(Data_test) == len(Label_test)\n",
        "print('Nb training examples:', len(X_train))\n",
        "print('Nb test examples:', len(Data_test))"
      ],
      "execution_count": 5,
      "outputs": [
        {
          "output_type": "stream",
          "text": [
            "Nb training examples: 31256\n",
            "Nb test examples: 7814\n"
          ],
          "name": "stdout"
        }
      ]
    },
    {
      "cell_type": "markdown",
      "metadata": {
        "id": "5RO5KSf4XbQH"
      },
      "source": [
        "GPU compute setup"
      ]
    },
    {
      "cell_type": "code",
      "metadata": {
        "id": "CUvv-GejXafH"
      },
      "source": [
        "device = th.device('cuda' if th.cuda.is_available() else 'cpu')\n",
        "# pass train/test variables to torch detected device \n",
        "# X_train, X_test = X_train.to(device), X_test.to(device)\n",
        "# y_train, y_test = y_train.to(device), y_test.to(device)\n",
        "# sanity check \n",
        "# X_train.is_cuda\n"
      ],
      "execution_count": 28,
      "outputs": []
    },
    {
      "cell_type": "markdown",
      "metadata": {
        "id": "5Y-voGwmLp-z"
      },
      "source": [
        "## Model"
      ]
    },
    {
      "cell_type": "code",
      "metadata": {
        "id": "BHLrodQohxol"
      },
      "source": [
        "# Hyperparameters\n",
        "vocab_size = len(th.unique(X_train)) # number of unique amino acids\n",
        "sequence_length = 2000 # maximum length of sequence\n",
        "embedding_size = 11 # \n",
        "num_layers = 2 # number of layers for BiLTSM model\n",
        "hidden_size = 256\n",
        "num_classes = 15 # number of protein\n",
        "lr = 0.001\n",
        "batch_size = 32\n",
        "n_epochs = 10\n"
      ],
      "execution_count": 12,
      "outputs": []
    },
    {
      "cell_type": "code",
      "metadata": {
        "id": "M-8FGQzg9vkP"
      },
      "source": [
        "class Dataset(th.utils.data.Dataset):\n",
        "  'Characterizes a dataset for PyTorch'\n",
        "  def __init__(self, X, y):\n",
        "        'Initialization'\n",
        "        self.X = X\n",
        "        self.y = y\n",
        "        self.list_IDs = [i for i in range(len(X))]\n",
        "\n",
        "  def __len__(self):\n",
        "        'Denotes the total number of samples'\n",
        "        return len(self.list_IDs)\n",
        "\n",
        "  def __getitem__(self, index):\n",
        "        'Generates one sample of data'\n",
        "        # Select sample\n",
        "        ID = self.list_IDs[index]\n",
        "        # Load data and get label\n",
        "        X = self.X[ID]\n",
        "        y = self.y[ID]\n",
        "        return X, y"
      ],
      "execution_count": 13,
      "outputs": []
    },
    {
      "cell_type": "code",
      "metadata": {
        "colab": {
          "base_uri": "https://localhost:8080/"
        },
        "id": "tSBQuT7kLrLe",
        "outputId": "c6a47bdc-5860-4cc3-a4d3-083566a93a79"
      },
      "source": [
        "class BiLSTM(nn.Module):\n",
        "  def __init__(self, vocab_size, embedding_size, hidden_size, num_layers, num_classes, batch_size):\n",
        "    \"\"\"\n",
        "    vocab_size: int, number of words in vocbulary\n",
        "    emedding_size: int, embedding dimension\n",
        "    hidden_size: int, size of hidden layer\n",
        "    num_layers: int, number of LSTM layers\n",
        "    num_classes: number of classes\n",
        "    batch_size: size of mini batches\n",
        "    \"\"\"\n",
        "    super(BiLSTM, self).__init__()\n",
        "    self.hidden_size = hidden_size\n",
        "    self.num_layers = num_layers\n",
        "    self.batch_size = batch_size\n",
        "    self.embedding = nn.Embedding(vocab_size, embedding_size)\n",
        "    # self.hidden = self.init_hidden()\n",
        "    self.lstm = nn.LSTM(embedding_size, hidden_size, num_layers, batch_first=True, bidirectional=True)\n",
        "    self.linear = nn.Linear(hidden_size*2, num_classes)\n",
        "  \n",
        "  def init_hidden(self):\n",
        "    # initialise hidden & cell state\n",
        "    h0 = Variable(th.zeros(self.num_layers*2, self.batch_size, self.hidden_size)).to(device)\n",
        "    c0 = Variable(th.zeros(self.num_layers*2, self.batch_size, self.hidden_size)).to(device)\n",
        "    return (h0, c0)\n",
        "\n",
        "  def forward(self, inputs, hidden):\n",
        "    x = self.embedding(inputs) # x=[batch_size, sequence_len, embedding_size]\n",
        "    # lstm_out, self.hidden = self.lstm(x, self.hidden) # lstm_out=[batch_size, sequence_len, hidden_size]\n",
        "    lstm_out, hidden = self.lstm(x, hidden)\n",
        "    lstm_out = lstm_out.permute(1,0,2) # lstm_out=[sequence_len, batch_size, hidden_size]\n",
        "    y = self.linear(lstm_out[-1]) # take last hidden state, y=[batch_size, num_classes]\n",
        "    probs = F.log_softmax(y, dim=1) # probs=[batch_size, num_classes]\n",
        "    return probs, hidden\n",
        "\n",
        "# generate model instance\n",
        "model1 = BiLSTM(vocab_size, embedding_size, hidden_size, num_layers, num_classes, batch_size).to(device)\n",
        "print(model1)\n",
        "criterion1 = nn.CrossEntropyLoss()\n",
        "optimizer1 = optim.Adam(model1.parameters(), lr=lr)\n",
        "scheduler = optim.lr_scheduler.StepLR(optimizer1, step_size=1., gamma=0.1)"
      ],
      "execution_count": 30,
      "outputs": [
        {
          "output_type": "stream",
          "text": [
            "BiLSTM(\n",
            "  (embedding): Embedding(26, 11)\n",
            "  (lstm): LSTM(11, 256, num_layers=2, batch_first=True, bidirectional=True)\n",
            "  (linear): Linear(in_features=512, out_features=15, bias=True)\n",
            ")\n"
          ],
          "name": "stdout"
        }
      ]
    },
    {
      "cell_type": "markdown",
      "metadata": {
        "id": "Zjoab-ELJuNF"
      },
      "source": [
        "#### Utils"
      ]
    },
    {
      "cell_type": "code",
      "metadata": {
        "id": "D4FYiFul-wzr"
      },
      "source": [
        "# visualize tensor dimensions after each layer\n",
        "batch, label = list(train_generator)[0]\n",
        "label = th.argmax(label, 1)\n",
        "batch = batch.to(device)\n",
        "emb = nn.Embedding(vocab_size, embedding_size).to(device)\n",
        "lstm = nn.LSTM(embedding_size, hidden_size, num_layers, batch_first=True, bidirectional=True).to(device)\n",
        "h0 = Variable(th.zeros(num_layers*2, batch_size, hidden_size)).to(device)\n",
        "c0 = Variable(th.zeros(num_layers*2, batch_size, hidden_size)).to(device)\n",
        "lin = nn.Linear(hidden_size*2, num_classes).to(device)\n",
        "emb_out = emb(batch)\n",
        "print(emb_out.size())\n",
        "lstm_out, _ = lstm(emb_out, (h0, c0))\n",
        "print(lstm_out.size())\n",
        "lstm_out = lstm_out.permute(1,0,2)\n",
        "lstm_out = lstm_out[-1]\n",
        "print(lstm_out.size())\n",
        "lin_out = lin(lstm_out)\n",
        "print(lin_out.size())\n",
        "y = F.log_softmax(lin_out, dim=1)\n",
        "print(y.size())\n",
        "l = criterion1(y, label)\n",
        "print('loss = {}'.format(l))"
      ],
      "execution_count": null,
      "outputs": []
    },
    {
      "cell_type": "code",
      "metadata": {
        "id": "3hpVRYq0jDjD"
      },
      "source": [
        "def repackage_hidden(h):\n",
        "  hn, cn = h[0], h[1]\n",
        "  return Variable(hn), Variable(cn)"
      ],
      "execution_count": 31,
      "outputs": []
    },
    {
      "cell_type": "code",
      "metadata": {
        "id": "OGziBZpjJ5I_"
      },
      "source": [
        "def train(dataloader, model, optimizer, criterion):\n",
        "  \"\"\"\n",
        "  Main function for training model and printing prompt\n",
        "  \"\"\"\n",
        "  model.train()\n",
        "  total_acc, total_count = 0, 0\n",
        "  log_interval = 300\n",
        "  start_time = time.time()\n",
        "\n",
        "  for idx, (batch, label) in enumerate(dataloader):\n",
        "    hidden = model.init_hidden() # initalise hidden states\n",
        "    model.zero_grad()\n",
        "    pred, hidden = model(batch, hidden)\n",
        "    hidden = repackage_hidden(hidden)\n",
        "    label = th.argmax(label, 1) # one_hot --> indexing\n",
        "    loss = criterion(pred, label)\n",
        "    loss.backward()\n",
        "    th.nn.utils.clip_grad_norm_(model.parameters(), 0.1)\n",
        "    optimizer.step()\n",
        "    total_acc += (pred.argmax(1) == label).sum().item()\n",
        "    total_count += label.size(0)\n",
        "    if idx % log_interval == 0 and idx > 0:\n",
        "        elapsed = time.time() - start_time\n",
        "        print('| epoch {:3d} | {:5d}/{:5d} batches '\n",
        "              '| accuracy {:8.3f}'.format(epoch, idx, len(dataloader), total_acc/total_count))\n",
        "        total_acc, total_count = 0, 0\n",
        "        start_time = time.time()\n",
        "\n",
        "def evaluate(dataloader, model, criterion):\n",
        "  \"\"\"\n",
        "  Main function for training model and printing prompt\n",
        "  \"\"\"\n",
        "  model.eval()\n",
        "  total_acc, total_count = 0, 0\n",
        "\n",
        "  with th.no_grad():\n",
        "    for idx, (batch, label) in enumerate(dataloader):\n",
        "      hidden = model.init_hidden() # initalise hidden states\n",
        "      pred, hidden = model(batch, hidden)\n",
        "      hidden = repackage_hidden(hidden) # repackage to prevent backpropagation through whole training example\n",
        "      label = th.argmax(label, 1) # one_hot --> indexing\n",
        "      loss = criterion(pred, label)\n",
        "      total_acc += (pred.argmax(1) == label).sum().item()\n",
        "      total_count += label.size(0)\n",
        "  return total_acc/total_count"
      ],
      "execution_count": 16,
      "outputs": []
    },
    {
      "cell_type": "markdown",
      "metadata": {
        "id": "l9C0bSmKJzHk"
      },
      "source": [
        "#### Training"
      ]
    },
    {
      "cell_type": "code",
      "metadata": {
        "colab": {
          "base_uri": "https://localhost:8080/"
        },
        "id": "6Wy12DhgwvnK",
        "outputId": "aebb4818-b722-4ec3-87d7-b3babb84d57e"
      },
      "source": [
        "# Train/Val/Test generators\n",
        "X_val, X_test, y_val, y_test = train_test_split(Data_test, Label_test, test_size=.5)\n",
        "train_set = Dataset(X_train, y_train)\n",
        "train_generator = DataLoader(train_set, batch_size=batch_size, shuffle=True, drop_last=True)\n",
        "val_set = Dataset(X_val, y_val)\n",
        "val_generator = DataLoader(val_set, batch_size=batch_size, shuffle=True, drop_last=True)\n",
        "test_set = Dataset(X_test, y_test)\n",
        "test_generator = DataLoader(test_set, batch_size=batch_size, shuffle=True, drop_last=True)\n",
        "print('Nb training examples:', len(X_train))\n",
        "print('Nb validation examples:', len(X_val))\n",
        "print('Nb test examples:', len(X_test))"
      ],
      "execution_count": 32,
      "outputs": [
        {
          "output_type": "stream",
          "text": [
            "Nb training examples: 31256\n",
            "Nb validation examples: 3907\n",
            "Nb test examples: 3907\n"
          ],
          "name": "stdout"
        }
      ]
    },
    {
      "cell_type": "code",
      "metadata": {
        "colab": {
          "base_uri": "https://localhost:8080/"
        },
        "id": "avUf-6kM0G6w",
        "outputId": "098f80d0-e49d-4210-abd5-1bdebd8dc58b"
      },
      "source": [
        "# training loop\n",
        "save_dir = f'/content/gdrive/My Drive/Colab Notebooks/Weights'\n",
        "date = datetime.now().strftime(\"%Y%m%d-%I%M_%p\")\n",
        "\n",
        "total_accu=None\n",
        "train_acc = []\n",
        "val_acc = []\n",
        "\n",
        "\n",
        "for epoch in range(1, n_epochs+ 1):\n",
        "  epoch_start_time = time.time()\n",
        "  train(train_generator, model1, optimizer1, criterion1)\n",
        "  accu_train = evaluate(train_generator, model1, criterion1)\n",
        "  train_acc.append(accu_train)\n",
        "  accu_val = evaluate(val_generator, model1, criterion1)\n",
        "  val_acc.append(accu_val)\n",
        "  th.save({'epoch': epoch,\n",
        "              'model_state_dict': model1.state_dict(),\n",
        "              'optimizer_state_dict': optimizer1.state_dict(),\n",
        "              'loss': criterion1}, \n",
        "             os.path.join(save_dir, 'bilstm'+'_'+ date + '.pt'))\n",
        "  if total_accu is not None and total_accu > accu_val:\n",
        "    scheduler.step()\n",
        "  else:\n",
        "      total_accu = accu_val\n",
        "  print('-' * 59)\n",
        "  print('| end of epoch {:3d} | time: {:5.2f}s | '\n",
        "        'val accuracy {:8.3f} '.format(epoch,time.time()-epoch_start_time,accu_val))\n",
        "  print('-' * 59)\n"
      ],
      "execution_count": 35,
      "outputs": [
        {
          "output_type": "stream",
          "text": [
            "| epoch   1 |   300/  976 batches | accuracy    0.294\n",
            "| epoch   1 |   600/  976 batches | accuracy    0.338\n",
            "| epoch   1 |   900/  976 batches | accuracy    0.374\n",
            "-----------------------------------------------------------\n",
            "| end of epoch   1 | time: 560.98s | val accuracy    0.383 \n",
            "-----------------------------------------------------------\n",
            "| epoch   2 |   300/  976 batches | accuracy    0.415\n",
            "| epoch   2 |   600/  976 batches | accuracy    0.438\n",
            "| epoch   2 |   900/  976 batches | accuracy    0.470\n",
            "-----------------------------------------------------------\n",
            "| end of epoch   2 | time: 565.66s | val accuracy    0.480 \n",
            "-----------------------------------------------------------\n",
            "| epoch   3 |   300/  976 batches | accuracy    0.524\n",
            "| epoch   3 |   600/  976 batches | accuracy    0.540\n",
            "| epoch   3 |   900/  976 batches | accuracy    0.573\n",
            "-----------------------------------------------------------\n",
            "| end of epoch   3 | time: 565.83s | val accuracy    0.567 \n",
            "-----------------------------------------------------------\n",
            "| epoch   4 |   300/  976 batches | accuracy    0.630\n",
            "| epoch   4 |   600/  976 batches | accuracy    0.638\n",
            "| epoch   4 |   900/  976 batches | accuracy    0.653\n",
            "-----------------------------------------------------------\n",
            "| end of epoch   4 | time: 566.12s | val accuracy    0.631 \n",
            "-----------------------------------------------------------\n",
            "| epoch   5 |   300/  976 batches | accuracy    0.717\n",
            "| epoch   5 |   600/  976 batches | accuracy    0.711\n",
            "| epoch   5 |   900/  976 batches | accuracy    0.722\n",
            "-----------------------------------------------------------\n",
            "| end of epoch   5 | time: 564.86s | val accuracy    0.674 \n",
            "-----------------------------------------------------------\n",
            "| epoch   6 |   300/  976 batches | accuracy    0.778\n",
            "| epoch   6 |   600/  976 batches | accuracy    0.774\n",
            "| epoch   6 |   900/  976 batches | accuracy    0.774\n",
            "-----------------------------------------------------------\n",
            "| end of epoch   6 | time: 564.71s | val accuracy    0.701 \n",
            "-----------------------------------------------------------\n",
            "| epoch   7 |   300/  976 batches | accuracy    0.831\n",
            "| epoch   7 |   600/  976 batches | accuracy    0.813\n",
            "| epoch   7 |   900/  976 batches | accuracy    0.818\n",
            "-----------------------------------------------------------\n",
            "| end of epoch   7 | time: 565.56s | val accuracy    0.726 \n",
            "-----------------------------------------------------------\n",
            "| epoch   8 |   300/  976 batches | accuracy    0.864\n",
            "| epoch   8 |   600/  976 batches | accuracy    0.851\n",
            "| epoch   8 |   900/  976 batches | accuracy    0.845\n",
            "-----------------------------------------------------------\n",
            "| end of epoch   8 | time: 564.12s | val accuracy    0.740 \n",
            "-----------------------------------------------------------\n",
            "| epoch   9 |   300/  976 batches | accuracy    0.889\n",
            "| epoch   9 |   600/  976 batches | accuracy    0.881\n",
            "| epoch   9 |   900/  976 batches | accuracy    0.863\n",
            "-----------------------------------------------------------\n",
            "| end of epoch   9 | time: 565.00s | val accuracy    0.743 \n",
            "-----------------------------------------------------------\n",
            "| epoch  10 |   300/  976 batches | accuracy    0.900\n",
            "| epoch  10 |   600/  976 batches | accuracy    0.891\n",
            "| epoch  10 |   900/  976 batches | accuracy    0.891\n",
            "-----------------------------------------------------------\n",
            "| end of epoch  10 | time: 564.44s | val accuracy    0.754 \n",
            "-----------------------------------------------------------\n"
          ],
          "name": "stdout"
        }
      ]
    },
    {
      "cell_type": "code",
      "metadata": {
        "id": "yfGuYpU8XXso"
      },
      "source": [
        "def plot_acc(train_acc, val_acc, nb_epochs):\n",
        "\n",
        "  x = range(1, nb_epochs+1)\n",
        "  plt.figure()\n",
        "  plt.plot(x, train_acc, color='blue')\n",
        "  plt.plot(x, val_acc, color='orange')\n",
        "  plt.xlabel('epochs')\n",
        "  plt.ylabel('accuracy %')\n",
        "  plt.show()\n"
      ],
      "execution_count": 41,
      "outputs": []
    },
    {
      "cell_type": "code",
      "metadata": {
        "colab": {
          "base_uri": "https://localhost:8080/",
          "height": 279
        },
        "id": "Shj6M62cMseS",
        "outputId": "506a0610-821f-47c8-bce8-c00162de58ba"
      },
      "source": [
        "plot_loss(train_loss, val_loss, n_epochs)"
      ],
      "execution_count": 40,
      "outputs": [
        {
          "output_type": "display_data",
          "data": {
            "image/png": "[encoded data removed]",
            "text/plain": [
              "<Figure size 432x288 with 1 Axes>"
            ]
          },
          "metadata": {
            "tags": [],
            "needs_background": "light"
          }
        }
      ]
    }
  ]
}